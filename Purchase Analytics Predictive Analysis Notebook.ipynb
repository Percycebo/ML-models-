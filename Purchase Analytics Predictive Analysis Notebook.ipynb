{
 "cells": [
  {
   "cell_type": "markdown",
   "metadata": {},
   "source": [
    "## Libraries"
   ]
  },
  {
   "cell_type": "code",
   "execution_count": 212,
   "metadata": {},
   "outputs": [],
   "source": [
    "import numpy as np\n",
    "import pandas as pd\n",
    "\n",
    "from sklearn.preprocessing import StandardScaler\n",
    "from sklearn.decomposition import PCA\n",
    "from sklearn.cluster import KMeans\n",
    "\n",
    "import pickle\n",
    "\n",
    "from sklearn.linear_model import LogisticRegression \n",
    "\n",
    "import matplotlib.pyplot as plt\n",
    "import matplotlib.axes as axs\n",
    "import seaborn as sns\n",
    "sns.set()\n",
    "\n",
    "from sklearn.linear_model import LinearRegression"
   ]
  },
  {
   "cell_type": "markdown",
   "metadata": {},
   "source": [
    "## Data Preparation"
   ]
  },
  {
   "cell_type": "code",
   "execution_count": 213,
   "metadata": {},
   "outputs": [
    {
     "name": "stderr",
     "output_type": "stream",
     "text": [
      "C:\\Users\\Student\\Anaconda3\\lib\\site-packages\\sklearn\\base.py:253: UserWarning: Trying to unpickle estimator StandardScaler from version 0.21.3 when using version 0.20.3. This might lead to breaking code or invalid results. Use at your own risk.\n",
      "  UserWarning)\n",
      "C:\\Users\\Student\\Anaconda3\\lib\\site-packages\\sklearn\\base.py:253: UserWarning: Trying to unpickle estimator PCA from version 0.21.3 when using version 0.20.3. This might lead to breaking code or invalid results. Use at your own risk.\n",
      "  UserWarning)\n",
      "C:\\Users\\Student\\Anaconda3\\lib\\site-packages\\sklearn\\base.py:253: UserWarning: Trying to unpickle estimator KMeans from version 0.21.3 when using version 0.20.3. This might lead to breaking code or invalid results. Use at your own risk.\n",
      "  UserWarning)\n",
      "C:\\Users\\Student\\Anaconda3\\lib\\site-packages\\ipykernel_launcher.py:8: DataConversionWarning: Data with input dtype int64 were all converted to float64 by StandardScaler.\n",
      "  \n"
     ]
    }
   ],
   "source": [
    "df_purchase = pd.read_csv('purchase data.csv')\n",
    "\n",
    "scaler = pickle.load(open('scaler.pickle', 'rb'))\n",
    "pca = pickle.load(open('pca.pickle', 'rb'))\n",
    "kmeans_pca = pickle.load(open('kmeans_pca.pickle', 'rb'))\n",
    "\n",
    "features = df_purchase[['Sex', 'Marital status', 'Age', 'Education', 'Income', 'Occupation', 'Settlement size']]\n",
    "df_purchase_segm_std = scaler.transform(features)\n",
    "df_purchase_segm_pca = pca.transform(df_purchase_segm_std)\n",
    "purchase_segm_kmeans_pca = kmeans_pca.predict(df_purchase_segm_pca)\n",
    "\n",
    "df_purchase_predictors = df_purchase.copy()\n",
    "df_purchase_predictors['Segment'] = purchase_segm_kmeans_pca\n",
    "segment_dummies = pd.get_dummies(purchase_segm_kmeans_pca, prefix = 'Segment', prefix_sep = '_')\n",
    "df_purchase_predictors = pd.concat([df_purchase_predictors, segment_dummies], axis = 1)\n",
    "\n",
    "df_pa = df_purchase_predictors"
   ]
  },
  {
   "cell_type": "markdown",
   "metadata": {},
   "source": [
    "## Purchase Probability Model"
   ]
  },
  {
   "cell_type": "code",
   "execution_count": 214,
   "metadata": {},
   "outputs": [],
   "source": [
    "Y = df_pa['Incidence']"
   ]
  },
  {
   "cell_type": "code",
   "execution_count": 215,
   "metadata": {},
   "outputs": [],
   "source": [
    "# Our dependant variable is based on the average price of chocolate candy bars. \n",
    "# Therefore, X is a data frame, containing the mean across the five prices.\n",
    "X = pd.DataFrame()\n",
    "X['Mean_Price'] = (df_pa['Price_1'] +\n",
    "                   df_pa['Price_2'] +\n",
    "                   df_pa['Price_3'] +\n",
    "                   df_pa['Price_4'] +\n",
    "                   df_pa['Price_5'] ) / 5"
   ]
  },
  {
   "cell_type": "code",
   "execution_count": 216,
   "metadata": {},
   "outputs": [
    {
     "data": {
      "text/plain": [
       "LogisticRegression(C=1.0, class_weight=None, dual=False, fit_intercept=True,\n",
       "          intercept_scaling=1, max_iter=100, multi_class='warn',\n",
       "          n_jobs=None, penalty='l2', random_state=None, solver='sag',\n",
       "          tol=0.0001, verbose=0, warm_start=False)"
      ]
     },
     "execution_count": 216,
     "metadata": {},
     "output_type": "execute_result"
    }
   ],
   "source": [
    "# We create a Logistic Regression model using sk learn. Then we fit the model with our X or price and our Y or incidence.\n",
    "model_purchase = LogisticRegression(solver = 'sag')\n",
    "model_purchase.fit(X, Y)"
   ]
  },
  {
   "cell_type": "code",
   "execution_count": 217,
   "metadata": {},
   "outputs": [
    {
     "data": {
      "text/plain": [
       "array([[-2.34790222]])"
      ]
     },
     "execution_count": 217,
     "metadata": {},
     "output_type": "execute_result"
    }
   ],
   "source": [
    "# The coefficients for price. It is negative, signaling that with an increase in price, the purchase probability decreases.\n",
    "model_purchase.coef_"
   ]
  },
  {
   "cell_type": "markdown",
   "metadata": {},
   "source": [
    "## Price Elasticity of Purchase Probability"
   ]
  },
  {
   "cell_type": "code",
   "execution_count": 218,
   "metadata": {},
   "outputs": [
    {
     "data": {
      "text/html": [
       "<div>\n",
       "<style scoped>\n",
       "    .dataframe tbody tr th:only-of-type {\n",
       "        vertical-align: middle;\n",
       "    }\n",
       "\n",
       "    .dataframe tbody tr th {\n",
       "        vertical-align: top;\n",
       "    }\n",
       "\n",
       "    .dataframe thead th {\n",
       "        text-align: right;\n",
       "    }\n",
       "</style>\n",
       "<table border=\"1\" class=\"dataframe\">\n",
       "  <thead>\n",
       "    <tr style=\"text-align: right;\">\n",
       "      <th></th>\n",
       "      <th>Price_1</th>\n",
       "      <th>Price_2</th>\n",
       "      <th>Price_3</th>\n",
       "      <th>Price_4</th>\n",
       "      <th>Price_5</th>\n",
       "    </tr>\n",
       "  </thead>\n",
       "  <tbody>\n",
       "    <tr>\n",
       "      <th>count</th>\n",
       "      <td>58693.000000</td>\n",
       "      <td>58693.000000</td>\n",
       "      <td>58693.000000</td>\n",
       "      <td>58693.000000</td>\n",
       "      <td>58693.000000</td>\n",
       "    </tr>\n",
       "    <tr>\n",
       "      <th>mean</th>\n",
       "      <td>1.392074</td>\n",
       "      <td>1.780999</td>\n",
       "      <td>2.006789</td>\n",
       "      <td>2.159945</td>\n",
       "      <td>2.654798</td>\n",
       "    </tr>\n",
       "    <tr>\n",
       "      <th>std</th>\n",
       "      <td>0.091139</td>\n",
       "      <td>0.170868</td>\n",
       "      <td>0.046867</td>\n",
       "      <td>0.089825</td>\n",
       "      <td>0.098272</td>\n",
       "    </tr>\n",
       "    <tr>\n",
       "      <th>min</th>\n",
       "      <td>1.100000</td>\n",
       "      <td>1.260000</td>\n",
       "      <td>1.870000</td>\n",
       "      <td>1.760000</td>\n",
       "      <td>2.110000</td>\n",
       "    </tr>\n",
       "    <tr>\n",
       "      <th>25%</th>\n",
       "      <td>1.340000</td>\n",
       "      <td>1.580000</td>\n",
       "      <td>1.970000</td>\n",
       "      <td>2.120000</td>\n",
       "      <td>2.630000</td>\n",
       "    </tr>\n",
       "    <tr>\n",
       "      <th>50%</th>\n",
       "      <td>1.390000</td>\n",
       "      <td>1.880000</td>\n",
       "      <td>2.010000</td>\n",
       "      <td>2.170000</td>\n",
       "      <td>2.670000</td>\n",
       "    </tr>\n",
       "    <tr>\n",
       "      <th>75%</th>\n",
       "      <td>1.470000</td>\n",
       "      <td>1.890000</td>\n",
       "      <td>2.060000</td>\n",
       "      <td>2.240000</td>\n",
       "      <td>2.700000</td>\n",
       "    </tr>\n",
       "    <tr>\n",
       "      <th>max</th>\n",
       "      <td>1.590000</td>\n",
       "      <td>1.900000</td>\n",
       "      <td>2.140000</td>\n",
       "      <td>2.260000</td>\n",
       "      <td>2.800000</td>\n",
       "    </tr>\n",
       "  </tbody>\n",
       "</table>\n",
       "</div>"
      ],
      "text/plain": [
       "            Price_1       Price_2       Price_3       Price_4       Price_5\n",
       "count  58693.000000  58693.000000  58693.000000  58693.000000  58693.000000\n",
       "mean       1.392074      1.780999      2.006789      2.159945      2.654798\n",
       "std        0.091139      0.170868      0.046867      0.089825      0.098272\n",
       "min        1.100000      1.260000      1.870000      1.760000      2.110000\n",
       "25%        1.340000      1.580000      1.970000      2.120000      2.630000\n",
       "50%        1.390000      1.880000      2.010000      2.170000      2.670000\n",
       "75%        1.470000      1.890000      2.060000      2.240000      2.700000\n",
       "max        1.590000      1.900000      2.140000      2.260000      2.800000"
      ]
     },
     "execution_count": 218,
     "metadata": {},
     "output_type": "execute_result"
    }
   ],
   "source": [
    "# Here we see the prices for the five different brands, which is an important factor in determining purchase probability. \n",
    "# It informs the price range, for which we will be exploring purchase probability.\n",
    "df_pa[['Price_1', 'Price_2', 'Price_3', 'Price_4', 'Price_5']].describe()"
   ]
  },
  {
   "cell_type": "code",
   "execution_count": 219,
   "metadata": {},
   "outputs": [
    {
     "data": {
      "text/plain": [
       "array([0.5 , 0.51, 0.52, 0.53, 0.54, 0.55, 0.56, 0.57, 0.58, 0.59, 0.6 ,\n",
       "       0.61, 0.62, 0.63, 0.64, 0.65, 0.66, 0.67, 0.68, 0.69, 0.7 , 0.71,\n",
       "       0.72, 0.73, 0.74, 0.75, 0.76, 0.77, 0.78, 0.79, 0.8 , 0.81, 0.82,\n",
       "       0.83, 0.84, 0.85, 0.86, 0.87, 0.88, 0.89, 0.9 , 0.91, 0.92, 0.93,\n",
       "       0.94, 0.95, 0.96, 0.97, 0.98, 0.99, 1.  , 1.01, 1.02, 1.03, 1.04,\n",
       "       1.05, 1.06, 1.07, 1.08, 1.09, 1.1 , 1.11, 1.12, 1.13, 1.14, 1.15,\n",
       "       1.16, 1.17, 1.18, 1.19, 1.2 , 1.21, 1.22, 1.23, 1.24, 1.25, 1.26,\n",
       "       1.27, 1.28, 1.29, 1.3 , 1.31, 1.32, 1.33, 1.34, 1.35, 1.36, 1.37,\n",
       "       1.38, 1.39, 1.4 , 1.41, 1.42, 1.43, 1.44, 1.45, 1.46, 1.47, 1.48,\n",
       "       1.49, 1.5 , 1.51, 1.52, 1.53, 1.54, 1.55, 1.56, 1.57, 1.58, 1.59,\n",
       "       1.6 , 1.61, 1.62, 1.63, 1.64, 1.65, 1.66, 1.67, 1.68, 1.69, 1.7 ,\n",
       "       1.71, 1.72, 1.73, 1.74, 1.75, 1.76, 1.77, 1.78, 1.79, 1.8 , 1.81,\n",
       "       1.82, 1.83, 1.84, 1.85, 1.86, 1.87, 1.88, 1.89, 1.9 , 1.91, 1.92,\n",
       "       1.93, 1.94, 1.95, 1.96, 1.97, 1.98, 1.99, 2.  , 2.01, 2.02, 2.03,\n",
       "       2.04, 2.05, 2.06, 2.07, 2.08, 2.09, 2.1 , 2.11, 2.12, 2.13, 2.14,\n",
       "       2.15, 2.16, 2.17, 2.18, 2.19, 2.2 , 2.21, 2.22, 2.23, 2.24, 2.25,\n",
       "       2.26, 2.27, 2.28, 2.29, 2.3 , 2.31, 2.32, 2.33, 2.34, 2.35, 2.36,\n",
       "       2.37, 2.38, 2.39, 2.4 , 2.41, 2.42, 2.43, 2.44, 2.45, 2.46, 2.47,\n",
       "       2.48, 2.49, 2.5 , 2.51, 2.52, 2.53, 2.54, 2.55, 2.56, 2.57, 2.58,\n",
       "       2.59, 2.6 , 2.61, 2.62, 2.63, 2.64, 2.65, 2.66, 2.67, 2.68, 2.69,\n",
       "       2.7 , 2.71, 2.72, 2.73, 2.74, 2.75, 2.76, 2.77, 2.78, 2.79, 2.8 ,\n",
       "       2.81, 2.82, 2.83, 2.84, 2.85, 2.86, 2.87, 2.88, 2.89, 2.9 , 2.91,\n",
       "       2.92, 2.93, 2.94, 2.95, 2.96, 2.97, 2.98, 2.99, 3.  , 3.01, 3.02,\n",
       "       3.03, 3.04, 3.05, 3.06, 3.07, 3.08, 3.09, 3.1 , 3.11, 3.12, 3.13,\n",
       "       3.14, 3.15, 3.16, 3.17, 3.18, 3.19, 3.2 , 3.21, 3.22, 3.23, 3.24,\n",
       "       3.25, 3.26, 3.27, 3.28, 3.29, 3.3 , 3.31, 3.32, 3.33, 3.34, 3.35,\n",
       "       3.36, 3.37, 3.38, 3.39, 3.4 , 3.41, 3.42, 3.43, 3.44, 3.45, 3.46,\n",
       "       3.47, 3.48, 3.49])"
      ]
     },
     "execution_count": 219,
     "metadata": {},
     "output_type": "execute_result"
    }
   ],
   "source": [
    "# We introduce the price range for which we'll examine the purchase probability.\n",
    "# We choose a price range between 0.5 and 3.49, which somewhat expands the actual observed price range, \n",
    "# which is from 1.1 to 2.8. \n",
    "price_range = np.arange(0.5, 3.5, 0.01)\n",
    "price_range"
   ]
  },
  {
   "cell_type": "code",
   "execution_count": 220,
   "metadata": {},
   "outputs": [],
   "source": [
    "df_price_range = pd.DataFrame(price_range)"
   ]
  },
  {
   "cell_type": "code",
   "execution_count": 221,
   "metadata": {},
   "outputs": [],
   "source": [
    "# We predict the purchase probability for our newly defined price range. \n",
    "# The result is a 2x300  array. The first column shows the probability for not purchasing the product, \n",
    "# the second the probability for purchase for each price point in our price range.\n",
    "Y_pr = model_purchase.predict_proba(df_price_range)\n",
    "purchase_pr = Y_pr[:][:, 1]\n",
    "pe = model_purchase.coef_[:, 0] * price_range * (1 - purchase_pr)# Formula for price elasticities\n",
    "Y_pr = model_purchase.predict_proba(df_price_range)"
   ]
  },
  {
   "cell_type": "code",
   "execution_count": 222,
   "metadata": {},
   "outputs": [],
   "source": [
    "df_price_elasticities = pd.DataFrame(price_range)"
   ]
  },
  {
   "cell_type": "code",
   "execution_count": 223,
   "metadata": {},
   "outputs": [
    {
     "data": {
      "text/html": [
       "<div>\n",
       "<style scoped>\n",
       "    .dataframe tbody tr th:only-of-type {\n",
       "        vertical-align: middle;\n",
       "    }\n",
       "\n",
       "    .dataframe tbody tr th {\n",
       "        vertical-align: top;\n",
       "    }\n",
       "\n",
       "    .dataframe thead th {\n",
       "        text-align: right;\n",
       "    }\n",
       "</style>\n",
       "<table border=\"1\" class=\"dataframe\">\n",
       "  <thead>\n",
       "    <tr style=\"text-align: right;\">\n",
       "      <th></th>\n",
       "      <th>Price_Point</th>\n",
       "      <th>Mean_PE</th>\n",
       "    </tr>\n",
       "  </thead>\n",
       "  <tbody>\n",
       "    <tr>\n",
       "      <th>0</th>\n",
       "      <td>0.50</td>\n",
       "      <td>-0.096405</td>\n",
       "    </tr>\n",
       "    <tr>\n",
       "      <th>1</th>\n",
       "      <td>0.51</td>\n",
       "      <td>-0.100473</td>\n",
       "    </tr>\n",
       "    <tr>\n",
       "      <th>2</th>\n",
       "      <td>0.52</td>\n",
       "      <td>-0.104668</td>\n",
       "    </tr>\n",
       "    <tr>\n",
       "      <th>3</th>\n",
       "      <td>0.53</td>\n",
       "      <td>-0.108993</td>\n",
       "    </tr>\n",
       "    <tr>\n",
       "      <th>4</th>\n",
       "      <td>0.54</td>\n",
       "      <td>-0.113452</td>\n",
       "    </tr>\n",
       "    <tr>\n",
       "      <th>...</th>\n",
       "      <td>...</td>\n",
       "      <td>...</td>\n",
       "    </tr>\n",
       "    <tr>\n",
       "      <th>295</th>\n",
       "      <td>3.45</td>\n",
       "      <td>-8.012353</td>\n",
       "    </tr>\n",
       "    <tr>\n",
       "      <th>296</th>\n",
       "      <td>3.46</td>\n",
       "      <td>-8.037601</td>\n",
       "    </tr>\n",
       "    <tr>\n",
       "      <th>297</th>\n",
       "      <td>3.47</td>\n",
       "      <td>-8.062815</td>\n",
       "    </tr>\n",
       "    <tr>\n",
       "      <th>298</th>\n",
       "      <td>3.48</td>\n",
       "      <td>-8.087995</td>\n",
       "    </tr>\n",
       "    <tr>\n",
       "      <th>299</th>\n",
       "      <td>3.49</td>\n",
       "      <td>-8.113142</td>\n",
       "    </tr>\n",
       "  </tbody>\n",
       "</table>\n",
       "<p>300 rows × 2 columns</p>\n",
       "</div>"
      ],
      "text/plain": [
       "     Price_Point   Mean_PE\n",
       "0           0.50 -0.096405\n",
       "1           0.51 -0.100473\n",
       "2           0.52 -0.104668\n",
       "3           0.53 -0.108993\n",
       "4           0.54 -0.113452\n",
       "..           ...       ...\n",
       "295         3.45 -8.012353\n",
       "296         3.46 -8.037601\n",
       "297         3.47 -8.062815\n",
       "298         3.48 -8.087995\n",
       "299         3.49 -8.113142\n",
       "\n",
       "[300 rows x 2 columns]"
      ]
     },
     "execution_count": 223,
     "metadata": {},
     "output_type": "execute_result"
    }
   ],
   "source": [
    "df_price_elasticities = df_price_elasticities.rename(columns = {0: \"Price_Point\"})\n",
    "df_price_elasticities['Mean_PE'] = pe\n",
    "df_price_elasticities"
   ]
  },
  {
   "cell_type": "code",
   "execution_count": 224,
   "metadata": {},
   "outputs": [
    {
     "data": {
      "text/html": [
       "<div>\n",
       "<style scoped>\n",
       "    .dataframe tbody tr th:only-of-type {\n",
       "        vertical-align: middle;\n",
       "    }\n",
       "\n",
       "    .dataframe tbody tr th {\n",
       "        vertical-align: top;\n",
       "    }\n",
       "\n",
       "    .dataframe thead th {\n",
       "        text-align: right;\n",
       "    }\n",
       "</style>\n",
       "<table border=\"1\" class=\"dataframe\">\n",
       "  <thead>\n",
       "    <tr style=\"text-align: right;\">\n",
       "      <th></th>\n",
       "      <th>Price_Point</th>\n",
       "      <th>Mean_PE</th>\n",
       "    </tr>\n",
       "  </thead>\n",
       "  <tbody>\n",
       "    <tr>\n",
       "      <th>0</th>\n",
       "      <td>0.50</td>\n",
       "      <td>-0.096405</td>\n",
       "    </tr>\n",
       "    <tr>\n",
       "      <th>1</th>\n",
       "      <td>0.51</td>\n",
       "      <td>-0.100473</td>\n",
       "    </tr>\n",
       "    <tr>\n",
       "      <th>2</th>\n",
       "      <td>0.52</td>\n",
       "      <td>-0.104668</td>\n",
       "    </tr>\n",
       "    <tr>\n",
       "      <th>3</th>\n",
       "      <td>0.53</td>\n",
       "      <td>-0.108993</td>\n",
       "    </tr>\n",
       "    <tr>\n",
       "      <th>4</th>\n",
       "      <td>0.54</td>\n",
       "      <td>-0.113452</td>\n",
       "    </tr>\n",
       "    <tr>\n",
       "      <th>...</th>\n",
       "      <td>...</td>\n",
       "      <td>...</td>\n",
       "    </tr>\n",
       "    <tr>\n",
       "      <th>295</th>\n",
       "      <td>3.45</td>\n",
       "      <td>-8.012353</td>\n",
       "    </tr>\n",
       "    <tr>\n",
       "      <th>296</th>\n",
       "      <td>3.46</td>\n",
       "      <td>-8.037601</td>\n",
       "    </tr>\n",
       "    <tr>\n",
       "      <th>297</th>\n",
       "      <td>3.47</td>\n",
       "      <td>-8.062815</td>\n",
       "    </tr>\n",
       "    <tr>\n",
       "      <th>298</th>\n",
       "      <td>3.48</td>\n",
       "      <td>-8.087995</td>\n",
       "    </tr>\n",
       "    <tr>\n",
       "      <th>299</th>\n",
       "      <td>3.49</td>\n",
       "      <td>-8.113142</td>\n",
       "    </tr>\n",
       "  </tbody>\n",
       "</table>\n",
       "<p>300 rows × 2 columns</p>\n",
       "</div>"
      ],
      "text/plain": [
       "     Price_Point   Mean_PE\n",
       "0           0.50 -0.096405\n",
       "1           0.51 -0.100473\n",
       "2           0.52 -0.104668\n",
       "3           0.53 -0.108993\n",
       "4           0.54 -0.113452\n",
       "..           ...       ...\n",
       "295         3.45 -8.012353\n",
       "296         3.46 -8.037601\n",
       "297         3.47 -8.062815\n",
       "298         3.48 -8.087995\n",
       "299         3.49 -8.113142\n",
       "\n",
       "[300 rows x 2 columns]"
      ]
     },
     "execution_count": 224,
     "metadata": {},
     "output_type": "execute_result"
    }
   ],
   "source": [
    "#pd.options.display.max_rows = None\n",
    "df_price_elasticities"
   ]
  },
  {
   "cell_type": "code",
   "execution_count": 225,
   "metadata": {},
   "outputs": [
    {
     "data": {
      "text/plain": [
       "Text(0.5, 1.0, 'Price Elasticity of Purchase Probability')"
      ]
     },
     "execution_count": 225,
     "metadata": {},
     "output_type": "execute_result"
    },
    {
     "data": {
      "image/png": "[encoded data removed]",
      "text/plain": [
       "<Figure size 648x432 with 1 Axes>"
      ]
     },
     "metadata": {},
     "output_type": "display_data"
    }
   ],
   "source": [
    "# We display the price elasticity of purchase probability of the average customer.\n",
    "# We observe that the price elasticities are all negative. Furthermore we can spot where the customer becomes inelastic.\n",
    "# But to find the precise spot we can consult the price elasticities data frame.\n",
    "plt.figure(figsize = (9, 6))\n",
    "plt.plot(price_range, pe, color = 'grey')\n",
    "plt.xlabel('Price')\n",
    "plt.ylabel('Elasticity')\n",
    "plt.title('Price Elasticity of Purchase Probability')"
   ]
  },
  {
   "cell_type": "markdown",
   "metadata": {},
   "source": [
    "The general price elasticity starts being elastic on $1.25. Elasticiity descreases as price increases. Elasticity are negative because the coefficient is negative. We can also monitor the slope of the graph. This helps in determining the purchase probability of chocolate if we increase the price. When it's elastic that means we stand to lose more 1% of our purchase probability \n",
    "\n",
    "inelastic |E|<1\n",
    "elastic otherwise\n",
    "\n",
    "For inelastic values we should increase the price. We are less likely to lose buying clients\n",
    "For elastic values we should decrease the prices of choloate to increase purchase probability"
   ]
  },
  {
   "cell_type": "markdown",
   "metadata": {},
   "source": [
    "## Purchase Probability by Segments"
   ]
  },
  {
   "cell_type": "markdown",
   "metadata": {},
   "source": [
    "### $\\color{green}{\\text{Segment 1 - Career-Focused}}$"
   ]
  },
  {
   "cell_type": "code",
   "execution_count": 226,
   "metadata": {},
   "outputs": [],
   "source": [
    "# We filter the data to contain only customers from segment 1, the career-focused.\n",
    "df_pa_segment_1 = df_pa[df_pa['Segment'] == 1]"
   ]
  },
  {
   "cell_type": "code",
   "execution_count": 227,
   "metadata": {},
   "outputs": [],
   "source": [
    "# Again we want to predict the purchase probability, so our Y variable is the incidence column.\n",
    "# Only here we select only the customers from the first segment.\n",
    "Y = df_pa_segment_1['Incidence']"
   ]
  },
  {
   "cell_type": "code",
   "execution_count": 228,
   "metadata": {},
   "outputs": [],
   "source": [
    "X = pd.DataFrame()"
   ]
  },
  {
   "cell_type": "code",
   "execution_count": 229,
   "metadata": {},
   "outputs": [],
   "source": [
    "X['Mean_Price'] = (df_pa_segment_1['Price_1'] +\n",
    "                   df_pa_segment_1['Price_2'] + \n",
    "                   df_pa_segment_1['Price_3'] + \n",
    "                   df_pa_segment_1['Price_4'] + \n",
    "                   df_pa_segment_1['Price_5']) / 5"
   ]
  },
  {
   "cell_type": "code",
   "execution_count": 230,
   "metadata": {},
   "outputs": [
    {
     "data": {
      "text/plain": [
       "LogisticRegression(C=1.0, class_weight=None, dual=False, fit_intercept=True,\n",
       "          intercept_scaling=1, max_iter=100, multi_class='warn',\n",
       "          n_jobs=None, penalty='l2', random_state=None, solver='sag',\n",
       "          tol=0.0001, verbose=0, warm_start=False)"
      ]
     },
     "execution_count": 230,
     "metadata": {},
     "output_type": "execute_result"
    }
   ],
   "source": [
    "model_incidence_segment_1 = LogisticRegression(solver = 'sag')\n",
    "model_incidence_segment_1.fit(X, Y)"
   ]
  },
  {
   "cell_type": "code",
   "execution_count": 231,
   "metadata": {},
   "outputs": [
    {
     "data": {
      "text/plain": [
       "array([[-1.7131585]])"
      ]
     },
     "execution_count": 231,
     "metadata": {},
     "output_type": "execute_result"
    }
   ],
   "source": [
    "# We observe that the price coefficient for the career focused is -1.7, whereas for the average customer it was -2.35.\n",
    "# This is an indicator, that this segment is less price sensitive compared to the average customer.\n",
    "model_incidence_segment_1.coef_"
   ]
  },
  {
   "cell_type": "code",
   "execution_count": 232,
   "metadata": {},
   "outputs": [],
   "source": [
    "Y_segment_1 = model_incidence_segment_1.predict_proba(df_price_range)\n",
    "purchase_pr_segment_1 = Y_segment_1[:][:, 1]\n",
    "pe_segment_1 = model_incidence_segment_1.coef_[:, 0] * price_range * (1 - purchase_pr_segment_1)"
   ]
  },
  {
   "cell_type": "markdown",
   "metadata": {},
   "source": [
    "### Results"
   ]
  },
  {
   "cell_type": "code",
   "execution_count": 233,
   "metadata": {},
   "outputs": [],
   "source": [
    "df_price_elasticities['PE_Segment_1'] = pe_segment_1"
   ]
  },
  {
   "cell_type": "code",
   "execution_count": 234,
   "metadata": {},
   "outputs": [
    {
     "data": {
      "text/plain": [
       "Text(0.5, 1.0, 'Price Elasticity of Purchase Probability')"
      ]
     },
     "execution_count": 234,
     "metadata": {},
     "output_type": "execute_result"
    },
    {
     "data": {
      "image/png": "[encoded data removed]",
      "text/plain": [
       "<Figure size 648x432 with 1 Axes>"
      ]
     },
     "metadata": {},
     "output_type": "display_data"
    }
   ],
   "source": [
    "# We plot the elasticities of the average customer and the career-focused segment side by side. \n",
    "# The career-focused segment is displayed in green. The same color we used during the descriptive analysis.\n",
    "plt.figure(figsize = (9, 6))\n",
    "plt.plot(price_range, pe, color = 'grey')\n",
    "plt.plot(price_range, pe_segment_1, color = 'green')\n",
    "plt.xlabel('Price')\n",
    "plt.ylabel('Elasticity')\n",
    "plt.title('Price Elasticity of Purchase Probability')"
   ]
  },
  {
   "cell_type": "markdown",
   "metadata": {},
   "source": [
    "### $\\color{red}{\\text{Segment 2 - Fewer-Opportunities}}$"
   ]
  },
  {
   "cell_type": "code",
   "execution_count": 235,
   "metadata": {},
   "outputs": [],
   "source": [
    "df_pa_segment_2 = df_pa[df_pa['Segment'] == 2]"
   ]
  },
  {
   "cell_type": "code",
   "execution_count": 236,
   "metadata": {},
   "outputs": [],
   "source": [
    "Y = df_pa_segment_2['Incidence']\n",
    "\n",
    "X = pd.DataFrame()\n",
    "X['Mean_Price'] = (df_pa_segment_2['Price_1'] + \n",
    "                   df_pa_segment_2['Price_2'] + \n",
    "                   df_pa_segment_2['Price_3'] + \n",
    "                   df_pa_segment_2['Price_4'] + \n",
    "                   df_pa_segment_2['Price_5']) / 5\n",
    "\n",
    "model_incidence_segment2 = LogisticRegression(solver = 'sag')\n",
    "model_incidence_segment2.fit(X, Y)\n",
    "\n",
    "model_incidence_segment2.coef_\n",
    "Y_segment_2 = model_incidence_segment2.predict_proba(df_price_range)\n",
    "purchase_pr_segment2 = Y_segment_2[:][: , 1]\n",
    "pe_segment2 = model_incidence_segment2.coef_[:,0] * price_range * ( 1- purchase_pr_segment2)"
   ]
  },
  {
   "cell_type": "markdown",
   "metadata": {},
   "source": [
    "### Results"
   ]
  },
  {
   "cell_type": "code",
   "execution_count": 237,
   "metadata": {},
   "outputs": [],
   "source": [
    "df_price_elasticities['PE_Segment_2'] = pe_segment2"
   ]
  },
  {
   "cell_type": "code",
   "execution_count": 238,
   "metadata": {},
   "outputs": [
    {
     "data": {
      "text/plain": [
       "Text(0.5, 1.0, 'Price Elasticity of Purchase Probability')"
      ]
     },
     "execution_count": 238,
     "metadata": {},
     "output_type": "execute_result"
    },
    {
     "data": {
      "image/png": "[encoded data removed]",
      "text/plain": [
       "<Figure size 648x432 with 1 Axes>"
      ]
     },
     "metadata": {},
     "output_type": "display_data"
    }
   ],
   "source": [
    "plt.figure(figsize = (9, 6))\n",
    "plt.plot(price_range, pe, color = 'grey')\n",
    "plt.plot(price_range, pe_segment_1, color = 'green')\n",
    "plt.plot(price_range, pe_segment2, color = 'r')\n",
    "plt.xlabel('Price')\n",
    "plt.ylabel('Elasticity')\n",
    "plt.title('Price Elasticity of Purchase Probability')"
   ]
  },
  {
   "cell_type": "markdown",
   "metadata": {},
   "source": [
    "### $\\color{blue}{\\text{Segment 0 - Standard}}$"
   ]
  },
  {
   "cell_type": "code",
   "execution_count": 239,
   "metadata": {},
   "outputs": [],
   "source": [
    "df_pa_segment_0 = df_pa[df_pa['Segment'] == 0]\n",
    "\n",
    "Y = df_pa_segment_0['Incidence']\n",
    "\n",
    "X = pd.DataFrame()\n",
    "X['Mean_Price'] = (df_pa_segment_0['Price_1'] + \n",
    "                   df_pa_segment_0['Price_2'] + \n",
    "                   df_pa_segment_0['Price_3'] + \n",
    "                   df_pa_segment_0['Price_4'] + \n",
    "                   df_pa_segment_0['Price_5']) / 5\n",
    "\n",
    "model_incidence_segment0 = LogisticRegression(solver = 'sag')\n",
    "model_incidence_segment0.fit(X, Y)\n",
    "\n",
    "model_incidence_segment0.coef_\n",
    "Y_segment_0 = model_incidence_segment0.predict_proba(df_price_range)\n",
    "purchase_pr_segment0 = Y_segment_0[:][: , 1]\n",
    "pe_segment0 = model_incidence_segment0.coef_[:,0] * price_range *( 1- purchase_pr_segment0)\n",
    "df_price_elasticities.insert(2, column = 'PE_Segment_0', value = pe_segment0)"
   ]
  },
  {
   "cell_type": "markdown",
   "metadata": {},
   "source": [
    "### $\\color{orange}{\\text{Segment 3 - Well-Off}}$"
   ]
  },
  {
   "cell_type": "code",
   "execution_count": 240,
   "metadata": {},
   "outputs": [
    {
     "data": {
      "text/html": [
       "<div>\n",
       "<style scoped>\n",
       "    .dataframe tbody tr th:only-of-type {\n",
       "        vertical-align: middle;\n",
       "    }\n",
       "\n",
       "    .dataframe tbody tr th {\n",
       "        vertical-align: top;\n",
       "    }\n",
       "\n",
       "    .dataframe thead th {\n",
       "        text-align: right;\n",
       "    }\n",
       "</style>\n",
       "<table border=\"1\" class=\"dataframe\">\n",
       "  <thead>\n",
       "    <tr style=\"text-align: right;\">\n",
       "      <th></th>\n",
       "      <th>Price_Point</th>\n",
       "      <th>Mean_PE</th>\n",
       "      <th>PE_Segment_0</th>\n",
       "      <th>PE_Segment_1</th>\n",
       "      <th>PE_Segment_2</th>\n",
       "      <th>PE_Segment_3</th>\n",
       "    </tr>\n",
       "  </thead>\n",
       "  <tbody>\n",
       "    <tr>\n",
       "      <th>0</th>\n",
       "      <td>0.50</td>\n",
       "      <td>-0.096405</td>\n",
       "      <td>-0.211130</td>\n",
       "      <td>-0.119188</td>\n",
       "      <td>-0.030911</td>\n",
       "      <td>-0.168036</td>\n",
       "    </tr>\n",
       "    <tr>\n",
       "      <th>1</th>\n",
       "      <td>0.51</td>\n",
       "      <td>-0.100473</td>\n",
       "      <td>-0.217699</td>\n",
       "      <td>-0.123376</td>\n",
       "      <td>-0.032677</td>\n",
       "      <td>-0.172960</td>\n",
       "    </tr>\n",
       "    <tr>\n",
       "      <th>2</th>\n",
       "      <td>0.52</td>\n",
       "      <td>-0.104668</td>\n",
       "      <td>-0.224375</td>\n",
       "      <td>-0.127657</td>\n",
       "      <td>-0.034531</td>\n",
       "      <td>-0.177954</td>\n",
       "    </tr>\n",
       "    <tr>\n",
       "      <th>3</th>\n",
       "      <td>0.53</td>\n",
       "      <td>-0.108993</td>\n",
       "      <td>-0.231161</td>\n",
       "      <td>-0.132033</td>\n",
       "      <td>-0.036475</td>\n",
       "      <td>-0.183019</td>\n",
       "    </tr>\n",
       "    <tr>\n",
       "      <th>4</th>\n",
       "      <td>0.54</td>\n",
       "      <td>-0.113452</td>\n",
       "      <td>-0.238055</td>\n",
       "      <td>-0.136506</td>\n",
       "      <td>-0.038514</td>\n",
       "      <td>-0.188156</td>\n",
       "    </tr>\n",
       "    <tr>\n",
       "      <th>...</th>\n",
       "      <td>...</td>\n",
       "      <td>...</td>\n",
       "      <td>...</td>\n",
       "      <td>...</td>\n",
       "      <td>...</td>\n",
       "      <td>...</td>\n",
       "    </tr>\n",
       "    <tr>\n",
       "      <th>295</th>\n",
       "      <td>3.45</td>\n",
       "      <td>-8.012353</td>\n",
       "      <td>-5.051646</td>\n",
       "      <td>-5.685795</td>\n",
       "      <td>-12.542962</td>\n",
       "      <td>-4.021059</td>\n",
       "    </tr>\n",
       "    <tr>\n",
       "      <th>296</th>\n",
       "      <td>3.46</td>\n",
       "      <td>-8.037601</td>\n",
       "      <td>-5.068502</td>\n",
       "      <td>-5.705959</td>\n",
       "      <td>-12.579882</td>\n",
       "      <td>-4.035923</td>\n",
       "    </tr>\n",
       "    <tr>\n",
       "      <th>297</th>\n",
       "      <td>3.47</td>\n",
       "      <td>-8.062815</td>\n",
       "      <td>-5.085340</td>\n",
       "      <td>-5.726086</td>\n",
       "      <td>-12.616786</td>\n",
       "      <td>-4.050771</td>\n",
       "    </tr>\n",
       "    <tr>\n",
       "      <th>298</th>\n",
       "      <td>3.48</td>\n",
       "      <td>-8.087995</td>\n",
       "      <td>-5.102159</td>\n",
       "      <td>-5.746176</td>\n",
       "      <td>-12.653673</td>\n",
       "      <td>-4.065603</td>\n",
       "    </tr>\n",
       "    <tr>\n",
       "      <th>299</th>\n",
       "      <td>3.49</td>\n",
       "      <td>-8.113142</td>\n",
       "      <td>-5.118960</td>\n",
       "      <td>-5.766230</td>\n",
       "      <td>-12.690544</td>\n",
       "      <td>-4.080418</td>\n",
       "    </tr>\n",
       "  </tbody>\n",
       "</table>\n",
       "<p>300 rows × 6 columns</p>\n",
       "</div>"
      ],
      "text/plain": [
       "     Price_Point   Mean_PE  PE_Segment_0  PE_Segment_1  PE_Segment_2  \\\n",
       "0           0.50 -0.096405     -0.211130     -0.119188     -0.030911   \n",
       "1           0.51 -0.100473     -0.217699     -0.123376     -0.032677   \n",
       "2           0.52 -0.104668     -0.224375     -0.127657     -0.034531   \n",
       "3           0.53 -0.108993     -0.231161     -0.132033     -0.036475   \n",
       "4           0.54 -0.113452     -0.238055     -0.136506     -0.038514   \n",
       "..           ...       ...           ...           ...           ...   \n",
       "295         3.45 -8.012353     -5.051646     -5.685795    -12.542962   \n",
       "296         3.46 -8.037601     -5.068502     -5.705959    -12.579882   \n",
       "297         3.47 -8.062815     -5.085340     -5.726086    -12.616786   \n",
       "298         3.48 -8.087995     -5.102159     -5.746176    -12.653673   \n",
       "299         3.49 -8.113142     -5.118960     -5.766230    -12.690544   \n",
       "\n",
       "     PE_Segment_3  \n",
       "0       -0.168036  \n",
       "1       -0.172960  \n",
       "2       -0.177954  \n",
       "3       -0.183019  \n",
       "4       -0.188156  \n",
       "..            ...  \n",
       "295     -4.021059  \n",
       "296     -4.035923  \n",
       "297     -4.050771  \n",
       "298     -4.065603  \n",
       "299     -4.080418  \n",
       "\n",
       "[300 rows x 6 columns]"
      ]
     },
     "execution_count": 240,
     "metadata": {},
     "output_type": "execute_result"
    }
   ],
   "source": [
    "df_pa_segment_3 = df_pa[df_pa['Segment'] == 3]\n",
    "\n",
    "Y = df_pa_segment_3['Incidence']\n",
    "\n",
    "X = pd.DataFrame()\n",
    "X['Mean_Price'] = (df_pa_segment_3['Price_1'] + \n",
    "                   df_pa_segment_3['Price_2'] + \n",
    "                   df_pa_segment_3['Price_3'] + \n",
    "                   df_pa_segment_3['Price_4'] + \n",
    "                   df_pa_segment_3['Price_5']) / 5\n",
    "\n",
    "model_incidence_segment3 = LogisticRegression(solver = 'sag')\n",
    "model_incidence_segment3.fit(X, Y)\n",
    "\n",
    "model_incidence_segment3.coef_\n",
    "Y_segment_3 = model_incidence_segment3.predict_proba(df_price_range)\n",
    "purchase_pr_segment3 = Y_segment_3[:][: , 1]\n",
    "pe_segment3 = model_incidence_segment3.coef_[:,0] * price_range *( 1- purchase_pr_segment3)\n",
    "df_price_elasticities['PE_Segment_3'] = pe_segment3\n",
    "df_price_elasticities"
   ]
  },
  {
   "cell_type": "markdown",
   "metadata": {},
   "source": [
    "### ${\\textbf{Results}}$"
   ]
  },
  {
   "cell_type": "code",
   "execution_count": 241,
   "metadata": {},
   "outputs": [
    {
     "data": {
      "text/plain": [
       "Text(0.5, 1.0, 'Price Elasticity of Purchase Probability')"
      ]
     },
     "execution_count": 241,
     "metadata": {},
     "output_type": "execute_result"
    },
    {
     "data": {
      "image/png": "[encoded data removed]",
      "text/plain": [
       "<Figure size 648x432 with 1 Axes>"
      ]
     },
     "metadata": {},
     "output_type": "display_data"
    }
   ],
   "source": [
    "plt.figure(figsize = (9, 6))\n",
    "plt.plot(price_range, pe, color = 'grey')\n",
    "plt.plot(price_range, pe_segment0, color = 'b')\n",
    "plt.plot(price_range, pe_segment_1, color = 'green')\n",
    "plt.plot(price_range, pe_segment2, color = 'r')\n",
    "plt.plot(price_range, pe_segment3, color = 'orange')\n",
    "plt.xlabel('Price')\n",
    "plt.ylabel('Elasticity')\n",
    "plt.title('Price Elasticity of Purchase Probability')"
   ]
  },
  {
   "cell_type": "markdown",
   "metadata": {},
   "source": [
    "## Purchase Probability with Promotion Feature"
   ]
  },
  {
   "cell_type": "markdown",
   "metadata": {},
   "source": [
    "### Data Preparation"
   ]
  },
  {
   "cell_type": "code",
   "execution_count": 242,
   "metadata": {},
   "outputs": [],
   "source": [
    "Y = df_pa['Incidence']"
   ]
  },
  {
   "cell_type": "code",
   "execution_count": 243,
   "metadata": {},
   "outputs": [],
   "source": [
    "X = pd.DataFrame()\n",
    "X['Mean_Price'] = (df_pa['Price_1'] + \n",
    "                   df_pa['Price_2'] + \n",
    "                   df_pa['Price_3'] + \n",
    "                   df_pa['Price_4'] + \n",
    "                   df_pa['Price_5']) / 5"
   ]
  },
  {
   "cell_type": "code",
   "execution_count": 244,
   "metadata": {},
   "outputs": [
    {
     "data": {
      "text/html": [
       "<div>\n",
       "<style scoped>\n",
       "    .dataframe tbody tr th:only-of-type {\n",
       "        vertical-align: middle;\n",
       "    }\n",
       "\n",
       "    .dataframe tbody tr th {\n",
       "        vertical-align: top;\n",
       "    }\n",
       "\n",
       "    .dataframe thead th {\n",
       "        text-align: right;\n",
       "    }\n",
       "</style>\n",
       "<table border=\"1\" class=\"dataframe\">\n",
       "  <thead>\n",
       "    <tr style=\"text-align: right;\">\n",
       "      <th></th>\n",
       "      <th>Mean_Price</th>\n",
       "      <th>Mean_Promotion</th>\n",
       "    </tr>\n",
       "  </thead>\n",
       "  <tbody>\n",
       "    <tr>\n",
       "      <th>0</th>\n",
       "      <td>2.044</td>\n",
       "      <td>0.2</td>\n",
       "    </tr>\n",
       "    <tr>\n",
       "      <th>1</th>\n",
       "      <td>2.028</td>\n",
       "      <td>0.0</td>\n",
       "    </tr>\n",
       "    <tr>\n",
       "      <th>2</th>\n",
       "      <td>2.028</td>\n",
       "      <td>0.0</td>\n",
       "    </tr>\n",
       "    <tr>\n",
       "      <th>3</th>\n",
       "      <td>2.028</td>\n",
       "      <td>0.0</td>\n",
       "    </tr>\n",
       "    <tr>\n",
       "      <th>4</th>\n",
       "      <td>2.030</td>\n",
       "      <td>0.0</td>\n",
       "    </tr>\n",
       "  </tbody>\n",
       "</table>\n",
       "</div>"
      ],
      "text/plain": [
       "   Mean_Price  Mean_Promotion\n",
       "0       2.044             0.2\n",
       "1       2.028             0.0\n",
       "2       2.028             0.0\n",
       "3       2.028             0.0\n",
       "4       2.030             0.0"
      ]
     },
     "execution_count": 244,
     "metadata": {},
     "output_type": "execute_result"
    }
   ],
   "source": [
    "X['Mean_Promotion'] = (df_pa['Promotion_1'] +\n",
    "                       df_pa['Promotion_2'] +\n",
    "                       df_pa['Promotion_3'] +\n",
    "                       df_pa['Promotion_4'] +\n",
    "                       df_pa['Promotion_5'] ) / 5\n",
    "X.head()"
   ]
  },
  {
   "cell_type": "markdown",
   "metadata": {},
   "source": [
    "## Model Estimation"
   ]
  },
  {
   "cell_type": "code",
   "execution_count": 245,
   "metadata": {},
   "outputs": [
    {
     "data": {
      "text/plain": [
       "array([[-1.4940958 ,  0.56151108]])"
      ]
     },
     "execution_count": 245,
     "metadata": {},
     "output_type": "execute_result"
    }
   ],
   "source": [
    "model_incidence_promotion = LogisticRegression(solver = 'sag')\n",
    "model_incidence_promotion.fit(X, Y)\n",
    "model_incidence_promotion.coef_"
   ]
  },
  {
   "cell_type": "markdown",
   "metadata": {},
   "source": [
    "## Price Elasticity with Promotion"
   ]
  },
  {
   "cell_type": "code",
   "execution_count": 246,
   "metadata": {},
   "outputs": [],
   "source": [
    "df_price_elasticity_promotion = pd.DataFrame(price_range)\n",
    "df_price_elasticity_promotion = df_price_elasticity_promotion.rename(columns = {0: \"Price_Range\"})"
   ]
  },
  {
   "cell_type": "code",
   "execution_count": 247,
   "metadata": {},
   "outputs": [],
   "source": [
    "df_price_elasticity_promotion['Promotion'] = 1"
   ]
  },
  {
   "cell_type": "code",
   "execution_count": 248,
   "metadata": {},
   "outputs": [],
   "source": [
    "Y_promotion = model_incidence_promotion.predict_proba(df_price_elasticity_promotion)"
   ]
  },
  {
   "cell_type": "code",
   "execution_count": 249,
   "metadata": {},
   "outputs": [],
   "source": [
    "promo = Y_promotion[:, 1]\n",
    "price_elasticity_promo = (model_incidence_promotion.coef_[:, 0] * price_range) * (1 - promo)"
   ]
  },
  {
   "cell_type": "code",
   "execution_count": 250,
   "metadata": {},
   "outputs": [
    {
     "data": {
      "text/html": [
       "<div>\n",
       "<style scoped>\n",
       "    .dataframe tbody tr th:only-of-type {\n",
       "        vertical-align: middle;\n",
       "    }\n",
       "\n",
       "    .dataframe tbody tr th {\n",
       "        vertical-align: top;\n",
       "    }\n",
       "\n",
       "    .dataframe thead th {\n",
       "        text-align: right;\n",
       "    }\n",
       "</style>\n",
       "<table border=\"1\" class=\"dataframe\">\n",
       "  <thead>\n",
       "    <tr style=\"text-align: right;\">\n",
       "      <th></th>\n",
       "      <th>Price_Point</th>\n",
       "      <th>Mean_PE</th>\n",
       "      <th>PE_Segment_0</th>\n",
       "      <th>PE_Segment_1</th>\n",
       "      <th>PE_Segment_2</th>\n",
       "      <th>PE_Segment_3</th>\n",
       "      <th>Elasticity_Promotion_1</th>\n",
       "    </tr>\n",
       "  </thead>\n",
       "  <tbody>\n",
       "    <tr>\n",
       "      <th>0</th>\n",
       "      <td>0.50</td>\n",
       "      <td>-0.096405</td>\n",
       "      <td>-0.211130</td>\n",
       "      <td>-0.119188</td>\n",
       "      <td>-0.030911</td>\n",
       "      <td>-0.168036</td>\n",
       "      <td>-0.125760</td>\n",
       "    </tr>\n",
       "    <tr>\n",
       "      <th>1</th>\n",
       "      <td>0.51</td>\n",
       "      <td>-0.100473</td>\n",
       "      <td>-0.217699</td>\n",
       "      <td>-0.123376</td>\n",
       "      <td>-0.032677</td>\n",
       "      <td>-0.172960</td>\n",
       "      <td>-0.129877</td>\n",
       "    </tr>\n",
       "    <tr>\n",
       "      <th>2</th>\n",
       "      <td>0.52</td>\n",
       "      <td>-0.104668</td>\n",
       "      <td>-0.224375</td>\n",
       "      <td>-0.127657</td>\n",
       "      <td>-0.034531</td>\n",
       "      <td>-0.177954</td>\n",
       "      <td>-0.134073</td>\n",
       "    </tr>\n",
       "    <tr>\n",
       "      <th>3</th>\n",
       "      <td>0.53</td>\n",
       "      <td>-0.108993</td>\n",
       "      <td>-0.231161</td>\n",
       "      <td>-0.132033</td>\n",
       "      <td>-0.036475</td>\n",
       "      <td>-0.183019</td>\n",
       "      <td>-0.138349</td>\n",
       "    </tr>\n",
       "    <tr>\n",
       "      <th>4</th>\n",
       "      <td>0.54</td>\n",
       "      <td>-0.113452</td>\n",
       "      <td>-0.238055</td>\n",
       "      <td>-0.136506</td>\n",
       "      <td>-0.038514</td>\n",
       "      <td>-0.188156</td>\n",
       "      <td>-0.142706</td>\n",
       "    </tr>\n",
       "    <tr>\n",
       "      <th>...</th>\n",
       "      <td>...</td>\n",
       "      <td>...</td>\n",
       "      <td>...</td>\n",
       "      <td>...</td>\n",
       "      <td>...</td>\n",
       "      <td>...</td>\n",
       "      <td>...</td>\n",
       "    </tr>\n",
       "    <tr>\n",
       "      <th>295</th>\n",
       "      <td>3.45</td>\n",
       "      <td>-8.012353</td>\n",
       "      <td>-5.051646</td>\n",
       "      <td>-5.685795</td>\n",
       "      <td>-12.542962</td>\n",
       "      <td>-4.021059</td>\n",
       "      <td>-4.861963</td>\n",
       "    </tr>\n",
       "    <tr>\n",
       "      <th>296</th>\n",
       "      <td>3.46</td>\n",
       "      <td>-8.037601</td>\n",
       "      <td>-5.068502</td>\n",
       "      <td>-5.705959</td>\n",
       "      <td>-12.579882</td>\n",
       "      <td>-4.035923</td>\n",
       "      <td>-4.880165</td>\n",
       "    </tr>\n",
       "    <tr>\n",
       "      <th>297</th>\n",
       "      <td>3.47</td>\n",
       "      <td>-8.062815</td>\n",
       "      <td>-5.085340</td>\n",
       "      <td>-5.726086</td>\n",
       "      <td>-12.616786</td>\n",
       "      <td>-4.050771</td>\n",
       "      <td>-4.898336</td>\n",
       "    </tr>\n",
       "    <tr>\n",
       "      <th>298</th>\n",
       "      <td>3.48</td>\n",
       "      <td>-8.087995</td>\n",
       "      <td>-5.102159</td>\n",
       "      <td>-5.746176</td>\n",
       "      <td>-12.653673</td>\n",
       "      <td>-4.065603</td>\n",
       "      <td>-4.916477</td>\n",
       "    </tr>\n",
       "    <tr>\n",
       "      <th>299</th>\n",
       "      <td>3.49</td>\n",
       "      <td>-8.113142</td>\n",
       "      <td>-5.118960</td>\n",
       "      <td>-5.766230</td>\n",
       "      <td>-12.690544</td>\n",
       "      <td>-4.080418</td>\n",
       "      <td>-4.934588</td>\n",
       "    </tr>\n",
       "  </tbody>\n",
       "</table>\n",
       "<p>300 rows × 7 columns</p>\n",
       "</div>"
      ],
      "text/plain": [
       "     Price_Point   Mean_PE  PE_Segment_0  PE_Segment_1  PE_Segment_2  \\\n",
       "0           0.50 -0.096405     -0.211130     -0.119188     -0.030911   \n",
       "1           0.51 -0.100473     -0.217699     -0.123376     -0.032677   \n",
       "2           0.52 -0.104668     -0.224375     -0.127657     -0.034531   \n",
       "3           0.53 -0.108993     -0.231161     -0.132033     -0.036475   \n",
       "4           0.54 -0.113452     -0.238055     -0.136506     -0.038514   \n",
       "..           ...       ...           ...           ...           ...   \n",
       "295         3.45 -8.012353     -5.051646     -5.685795    -12.542962   \n",
       "296         3.46 -8.037601     -5.068502     -5.705959    -12.579882   \n",
       "297         3.47 -8.062815     -5.085340     -5.726086    -12.616786   \n",
       "298         3.48 -8.087995     -5.102159     -5.746176    -12.653673   \n",
       "299         3.49 -8.113142     -5.118960     -5.766230    -12.690544   \n",
       "\n",
       "     PE_Segment_3  Elasticity_Promotion_1  \n",
       "0       -0.168036               -0.125760  \n",
       "1       -0.172960               -0.129877  \n",
       "2       -0.177954               -0.134073  \n",
       "3       -0.183019               -0.138349  \n",
       "4       -0.188156               -0.142706  \n",
       "..            ...                     ...  \n",
       "295     -4.021059               -4.861963  \n",
       "296     -4.035923               -4.880165  \n",
       "297     -4.050771               -4.898336  \n",
       "298     -4.065603               -4.916477  \n",
       "299     -4.080418               -4.934588  \n",
       "\n",
       "[300 rows x 7 columns]"
      ]
     },
     "execution_count": 250,
     "metadata": {},
     "output_type": "execute_result"
    }
   ],
   "source": [
    "df_price_elasticities['Elasticity_Promotion_1'] = price_elasticity_promo\n",
    "df_price_elasticities"
   ]
  },
  {
   "cell_type": "markdown",
   "metadata": {},
   "source": [
    "## Price Elasticity without Promotion"
   ]
  },
  {
   "cell_type": "code",
   "execution_count": 251,
   "metadata": {},
   "outputs": [],
   "source": [
    "df_price_elasticity_promotion_no = pd.DataFrame(price_range)\n",
    "df_price_elasticity_promotion_no = df_price_elasticity_promotion_no.rename(columns = {0: \"Price_Range\"})"
   ]
  },
  {
   "cell_type": "code",
   "execution_count": 252,
   "metadata": {},
   "outputs": [],
   "source": [
    "df_price_elasticity_promotion_no['Promotion'] = 0"
   ]
  },
  {
   "cell_type": "code",
   "execution_count": 253,
   "metadata": {},
   "outputs": [],
   "source": [
    "Y_no_promo = model_incidence_promotion.predict_proba(df_price_elasticity_promotion_no)"
   ]
  },
  {
   "cell_type": "code",
   "execution_count": 254,
   "metadata": {},
   "outputs": [],
   "source": [
    "no_promo = Y_no_promo[: , 1]"
   ]
  },
  {
   "cell_type": "code",
   "execution_count": 255,
   "metadata": {},
   "outputs": [],
   "source": [
    "price_elasticity_no_promo = model_incidence_promotion.coef_[:, 0] * price_range *(1- no_promo)"
   ]
  },
  {
   "cell_type": "code",
   "execution_count": 256,
   "metadata": {},
   "outputs": [],
   "source": [
    "df_price_elasticities['Elasticity_Promotion_0'] = price_elasticity_no_promo"
   ]
  },
  {
   "cell_type": "code",
   "execution_count": 257,
   "metadata": {},
   "outputs": [
    {
     "data": {
      "text/plain": [
       "Text(0.5, 1.0, 'Price Elasticity of Purchase Probability with and without Promotion')"
      ]
     },
     "execution_count": 257,
     "metadata": {},
     "output_type": "execute_result"
    },
    {
     "data": {
      "image/png": "[encoded data removed]",
      "text/plain": [
       "<Figure size 648x432 with 1 Axes>"
      ]
     },
     "metadata": {},
     "output_type": "display_data"
    }
   ],
   "source": [
    "plt.figure(figsize = (9, 6))\n",
    "plt.plot(price_range, price_elasticity_no_promo)\n",
    "plt.plot(price_range, price_elasticity_promo)\n",
    "plt.xlabel('Price')\n",
    "plt.ylabel('Elasticity')\n",
    "plt.title('Price Elasticity of Purchase Probability with and without Promotion')"
   ]
  },
  {
   "cell_type": "markdown",
   "metadata": {},
   "source": [
    "Customers are less price sensitive to prices when there are promotion activities.\n",
    "\n",
    "Price point without promotion is $1.27.\n",
    "Price point with promotion is $1.46\n",
    "    \n",
    "In this case, it would be more beneficial to have a higher original price and constant promotion. Udemy uses this method in seling their courses"
   ]
  },
  {
   "cell_type": "markdown",
   "metadata": {},
   "source": [
    "## ${\\textbf{Brand Choice}}$"
   ]
  },
  {
   "cell_type": "markdown",
   "metadata": {},
   "source": [
    "### Data Preparation"
   ]
  },
  {
   "cell_type": "code",
   "execution_count": 258,
   "metadata": {},
   "outputs": [],
   "source": [
    "brand_choice = df_pa[df_pa['Incidence'] == 1]"
   ]
  },
  {
   "cell_type": "code",
   "execution_count": 259,
   "metadata": {
    "scrolled": true
   },
   "outputs": [],
   "source": [
    "pd.options.display.max_rows = 100\n",
    "#brand_choice"
   ]
  },
  {
   "cell_type": "code",
   "execution_count": 260,
   "metadata": {},
   "outputs": [],
   "source": [
    "Y = brand_choice['Brand']"
   ]
  },
  {
   "cell_type": "code",
   "execution_count": 261,
   "metadata": {},
   "outputs": [
    {
     "data": {
      "text/plain": [
       "array(['ID', 'Day', 'Incidence', 'Brand', 'Quantity', 'Last_Inc_Brand',\n",
       "       'Last_Inc_Quantity', 'Price_1', 'Price_2', 'Price_3', 'Price_4',\n",
       "       'Price_5', 'Promotion_1', 'Promotion_2', 'Promotion_3',\n",
       "       'Promotion_4', 'Promotion_5', 'Sex', 'Marital status', 'Age',\n",
       "       'Education', 'Income', 'Occupation', 'Settlement size', 'Segment',\n",
       "       'Segment_0', 'Segment_1', 'Segment_2', 'Segment_3'], dtype=object)"
      ]
     },
     "execution_count": 261,
     "metadata": {},
     "output_type": "execute_result"
    }
   ],
   "source": [
    "brand_choice.columns.values"
   ]
  },
  {
   "cell_type": "code",
   "execution_count": 262,
   "metadata": {},
   "outputs": [],
   "source": [
    "features = ['Price_1', 'Price_2', 'Price_3', 'Price_4', 'Price_5']\n",
    "X = brand_choice[features]"
   ]
  },
  {
   "cell_type": "code",
   "execution_count": 263,
   "metadata": {},
   "outputs": [
    {
     "data": {
      "text/plain": [
       "LogisticRegression(C=1.0, class_weight=None, dual=False, fit_intercept=True,\n",
       "          intercept_scaling=1, max_iter=100, multi_class='multinomial',\n",
       "          n_jobs=None, penalty='l2', random_state=None, solver='sag',\n",
       "          tol=0.0001, verbose=0, warm_start=False)"
      ]
     },
     "execution_count": 263,
     "metadata": {},
     "output_type": "execute_result"
    }
   ],
   "source": [
    "model_brand_choice = LogisticRegression(solver = 'sag', multi_class = 'multinomial')\n",
    "model_brand_choice.fit(X, Y)"
   ]
  },
  {
   "cell_type": "code",
   "execution_count": 264,
   "metadata": {},
   "outputs": [
    {
     "data": {
      "text/plain": [
       "array([[-3.91597964,  0.65844881,  2.41763704,  0.70406829, -0.20213464],\n",
       "       [ 1.27460438, -1.87985897, -0.21267005, -0.20634638,  0.58786341],\n",
       "       [ 1.62423551,  0.56213316,  0.50104545,  1.03954098,  0.45283535],\n",
       "       [ 0.57452759,  0.3955831 , -1.40063774, -1.24624995,  0.24934214],\n",
       "       [ 0.44261215,  0.26369391, -1.3053747 , -0.29101294, -1.08790625]])"
      ]
     },
     "execution_count": 264,
     "metadata": {},
     "output_type": "execute_result"
    }
   ],
   "source": [
    "model_brand_choice.coef_"
   ]
  },
  {
   "cell_type": "code",
   "execution_count": 265,
   "metadata": {},
   "outputs": [
    {
     "data": {
      "text/html": [
       "<div>\n",
       "<style scoped>\n",
       "    .dataframe tbody tr th:only-of-type {\n",
       "        vertical-align: middle;\n",
       "    }\n",
       "\n",
       "    .dataframe tbody tr th {\n",
       "        vertical-align: top;\n",
       "    }\n",
       "\n",
       "    .dataframe thead th {\n",
       "        text-align: right;\n",
       "    }\n",
       "</style>\n",
       "<table border=\"1\" class=\"dataframe\">\n",
       "  <thead>\n",
       "    <tr style=\"text-align: right;\">\n",
       "      <th></th>\n",
       "      <th>0</th>\n",
       "      <th>1</th>\n",
       "      <th>2</th>\n",
       "      <th>3</th>\n",
       "      <th>4</th>\n",
       "    </tr>\n",
       "  </thead>\n",
       "  <tbody>\n",
       "    <tr>\n",
       "      <th>0</th>\n",
       "      <td>-3.915980</td>\n",
       "      <td>0.658449</td>\n",
       "      <td>2.417637</td>\n",
       "      <td>0.704068</td>\n",
       "      <td>-0.202135</td>\n",
       "    </tr>\n",
       "    <tr>\n",
       "      <th>1</th>\n",
       "      <td>1.274604</td>\n",
       "      <td>-1.879859</td>\n",
       "      <td>-0.212670</td>\n",
       "      <td>-0.206346</td>\n",
       "      <td>0.587863</td>\n",
       "    </tr>\n",
       "    <tr>\n",
       "      <th>2</th>\n",
       "      <td>1.624236</td>\n",
       "      <td>0.562133</td>\n",
       "      <td>0.501045</td>\n",
       "      <td>1.039541</td>\n",
       "      <td>0.452835</td>\n",
       "    </tr>\n",
       "    <tr>\n",
       "      <th>3</th>\n",
       "      <td>0.574528</td>\n",
       "      <td>0.395583</td>\n",
       "      <td>-1.400638</td>\n",
       "      <td>-1.246250</td>\n",
       "      <td>0.249342</td>\n",
       "    </tr>\n",
       "    <tr>\n",
       "      <th>4</th>\n",
       "      <td>0.442612</td>\n",
       "      <td>0.263694</td>\n",
       "      <td>-1.305375</td>\n",
       "      <td>-0.291013</td>\n",
       "      <td>-1.087906</td>\n",
       "    </tr>\n",
       "  </tbody>\n",
       "</table>\n",
       "</div>"
      ],
      "text/plain": [
       "          0         1         2         3         4\n",
       "0 -3.915980  0.658449  2.417637  0.704068 -0.202135\n",
       "1  1.274604 -1.879859 -0.212670 -0.206346  0.587863\n",
       "2  1.624236  0.562133  0.501045  1.039541  0.452835\n",
       "3  0.574528  0.395583 -1.400638 -1.246250  0.249342\n",
       "4  0.442612  0.263694 -1.305375 -0.291013 -1.087906"
      ]
     },
     "execution_count": 265,
     "metadata": {},
     "output_type": "execute_result"
    }
   ],
   "source": [
    "bc_coef = pd.DataFrame(model_brand_choice.coef_)\n",
    "bc_coef"
   ]
  },
  {
   "cell_type": "code",
   "execution_count": 266,
   "metadata": {},
   "outputs": [
    {
     "data": {
      "text/html": [
       "<div>\n",
       "<style scoped>\n",
       "    .dataframe tbody tr th:only-of-type {\n",
       "        vertical-align: middle;\n",
       "    }\n",
       "\n",
       "    .dataframe tbody tr th {\n",
       "        vertical-align: top;\n",
       "    }\n",
       "\n",
       "    .dataframe thead tr th {\n",
       "        text-align: left;\n",
       "    }\n",
       "</style>\n",
       "<table border=\"1\" class=\"dataframe\">\n",
       "  <thead>\n",
       "    <tr>\n",
       "      <th></th>\n",
       "      <th>Coef_Brand_1</th>\n",
       "      <th>Coef_Brand_2</th>\n",
       "      <th>Coef_Brand_3</th>\n",
       "      <th>Coef_Brand_4</th>\n",
       "      <th>Coef_Brand_5</th>\n",
       "    </tr>\n",
       "  </thead>\n",
       "  <tbody>\n",
       "    <tr>\n",
       "      <th>Price_1</th>\n",
       "      <td>-3.92</td>\n",
       "      <td>1.27</td>\n",
       "      <td>1.62</td>\n",
       "      <td>0.57</td>\n",
       "      <td>0.44</td>\n",
       "    </tr>\n",
       "    <tr>\n",
       "      <th>Price_2</th>\n",
       "      <td>0.66</td>\n",
       "      <td>-1.88</td>\n",
       "      <td>0.56</td>\n",
       "      <td>0.40</td>\n",
       "      <td>0.26</td>\n",
       "    </tr>\n",
       "    <tr>\n",
       "      <th>Price_3</th>\n",
       "      <td>2.42</td>\n",
       "      <td>-0.21</td>\n",
       "      <td>0.50</td>\n",
       "      <td>-1.40</td>\n",
       "      <td>-1.31</td>\n",
       "    </tr>\n",
       "    <tr>\n",
       "      <th>Price_4</th>\n",
       "      <td>0.70</td>\n",
       "      <td>-0.21</td>\n",
       "      <td>1.04</td>\n",
       "      <td>-1.25</td>\n",
       "      <td>-0.29</td>\n",
       "    </tr>\n",
       "    <tr>\n",
       "      <th>Price_5</th>\n",
       "      <td>-0.20</td>\n",
       "      <td>0.59</td>\n",
       "      <td>0.45</td>\n",
       "      <td>0.25</td>\n",
       "      <td>-1.09</td>\n",
       "    </tr>\n",
       "  </tbody>\n",
       "</table>\n",
       "</div>"
      ],
      "text/plain": [
       "        Coef_Brand_1 Coef_Brand_2 Coef_Brand_3 Coef_Brand_4 Coef_Brand_5\n",
       "Price_1        -3.92         1.27         1.62         0.57         0.44\n",
       "Price_2         0.66        -1.88         0.56         0.40         0.26\n",
       "Price_3         2.42        -0.21         0.50        -1.40        -1.31\n",
       "Price_4         0.70        -0.21         1.04        -1.25        -0.29\n",
       "Price_5        -0.20         0.59         0.45         0.25        -1.09"
      ]
     },
     "execution_count": 266,
     "metadata": {},
     "output_type": "execute_result"
    }
   ],
   "source": [
    "bc_coef = pd.DataFrame(np.transpose(model_brand_choice.coef_))\n",
    "coefficients = ['Coef_Brand_1', 'Coef_Brand_2', 'Coef_Brand_3', 'Coef_Brand_4', 'Coef_Brand_5']\n",
    "bc_coef.columns = [coefficients]\n",
    "prices = ['Price_1', 'Price_2', 'Price_3', 'Price_4', 'Price_5']\n",
    "bc_coef.index = [prices]\n",
    "bc_coef = bc_coef.round(2)\n",
    "bc_coef"
   ]
  },
  {
   "cell_type": "markdown",
   "metadata": {},
   "source": [
    "## Own Price Elasticity Brand 5"
   ]
  },
  {
   "cell_type": "code",
   "execution_count": 267,
   "metadata": {},
   "outputs": [
    {
     "data": {
      "text/html": [
       "<div>\n",
       "<style scoped>\n",
       "    .dataframe tbody tr th:only-of-type {\n",
       "        vertical-align: middle;\n",
       "    }\n",
       "\n",
       "    .dataframe tbody tr th {\n",
       "        vertical-align: top;\n",
       "    }\n",
       "\n",
       "    .dataframe thead th {\n",
       "        text-align: right;\n",
       "    }\n",
       "</style>\n",
       "<table border=\"1\" class=\"dataframe\">\n",
       "  <thead>\n",
       "    <tr style=\"text-align: right;\">\n",
       "      <th></th>\n",
       "      <th>Price_1</th>\n",
       "      <th>Price_2</th>\n",
       "      <th>Price_3</th>\n",
       "      <th>Price_4</th>\n",
       "      <th>Price_5</th>\n",
       "    </tr>\n",
       "  </thead>\n",
       "  <tbody>\n",
       "    <tr>\n",
       "      <th>0</th>\n",
       "      <td>1.384559</td>\n",
       "      <td>1.764717</td>\n",
       "      <td>2.006694</td>\n",
       "      <td>2.159658</td>\n",
       "      <td>0.50</td>\n",
       "    </tr>\n",
       "    <tr>\n",
       "      <th>1</th>\n",
       "      <td>1.384559</td>\n",
       "      <td>1.764717</td>\n",
       "      <td>2.006694</td>\n",
       "      <td>2.159658</td>\n",
       "      <td>0.51</td>\n",
       "    </tr>\n",
       "    <tr>\n",
       "      <th>2</th>\n",
       "      <td>1.384559</td>\n",
       "      <td>1.764717</td>\n",
       "      <td>2.006694</td>\n",
       "      <td>2.159658</td>\n",
       "      <td>0.52</td>\n",
       "    </tr>\n",
       "    <tr>\n",
       "      <th>3</th>\n",
       "      <td>1.384559</td>\n",
       "      <td>1.764717</td>\n",
       "      <td>2.006694</td>\n",
       "      <td>2.159658</td>\n",
       "      <td>0.53</td>\n",
       "    </tr>\n",
       "    <tr>\n",
       "      <th>4</th>\n",
       "      <td>1.384559</td>\n",
       "      <td>1.764717</td>\n",
       "      <td>2.006694</td>\n",
       "      <td>2.159658</td>\n",
       "      <td>0.54</td>\n",
       "    </tr>\n",
       "    <tr>\n",
       "      <th>...</th>\n",
       "      <td>...</td>\n",
       "      <td>...</td>\n",
       "      <td>...</td>\n",
       "      <td>...</td>\n",
       "      <td>...</td>\n",
       "    </tr>\n",
       "    <tr>\n",
       "      <th>295</th>\n",
       "      <td>1.384559</td>\n",
       "      <td>1.764717</td>\n",
       "      <td>2.006694</td>\n",
       "      <td>2.159658</td>\n",
       "      <td>3.45</td>\n",
       "    </tr>\n",
       "    <tr>\n",
       "      <th>296</th>\n",
       "      <td>1.384559</td>\n",
       "      <td>1.764717</td>\n",
       "      <td>2.006694</td>\n",
       "      <td>2.159658</td>\n",
       "      <td>3.46</td>\n",
       "    </tr>\n",
       "    <tr>\n",
       "      <th>297</th>\n",
       "      <td>1.384559</td>\n",
       "      <td>1.764717</td>\n",
       "      <td>2.006694</td>\n",
       "      <td>2.159658</td>\n",
       "      <td>3.47</td>\n",
       "    </tr>\n",
       "    <tr>\n",
       "      <th>298</th>\n",
       "      <td>1.384559</td>\n",
       "      <td>1.764717</td>\n",
       "      <td>2.006694</td>\n",
       "      <td>2.159658</td>\n",
       "      <td>3.48</td>\n",
       "    </tr>\n",
       "    <tr>\n",
       "      <th>299</th>\n",
       "      <td>1.384559</td>\n",
       "      <td>1.764717</td>\n",
       "      <td>2.006694</td>\n",
       "      <td>2.159658</td>\n",
       "      <td>3.49</td>\n",
       "    </tr>\n",
       "  </tbody>\n",
       "</table>\n",
       "<p>300 rows × 5 columns</p>\n",
       "</div>"
      ],
      "text/plain": [
       "      Price_1   Price_2   Price_3   Price_4  Price_5\n",
       "0    1.384559  1.764717  2.006694  2.159658     0.50\n",
       "1    1.384559  1.764717  2.006694  2.159658     0.51\n",
       "2    1.384559  1.764717  2.006694  2.159658     0.52\n",
       "3    1.384559  1.764717  2.006694  2.159658     0.53\n",
       "4    1.384559  1.764717  2.006694  2.159658     0.54\n",
       "..        ...       ...       ...       ...      ...\n",
       "295  1.384559  1.764717  2.006694  2.159658     3.45\n",
       "296  1.384559  1.764717  2.006694  2.159658     3.46\n",
       "297  1.384559  1.764717  2.006694  2.159658     3.47\n",
       "298  1.384559  1.764717  2.006694  2.159658     3.48\n",
       "299  1.384559  1.764717  2.006694  2.159658     3.49\n",
       "\n",
       "[300 rows x 5 columns]"
      ]
     },
     "execution_count": 267,
     "metadata": {},
     "output_type": "execute_result"
    }
   ],
   "source": [
    "df_own_brand_5 = pd.DataFrame(index = np.arange(price_range.size))\n",
    "df_own_brand_5['Price_1'] = brand_choice['Price_1'].mean()\n",
    "df_own_brand_5['Price_2'] = brand_choice['Price_2'].mean()\n",
    "df_own_brand_5['Price_3'] = brand_choice['Price_3'].mean()\n",
    "df_own_brand_5['Price_4'] = brand_choice['Price_4'].mean()\n",
    "df_own_brand_5['Price_5'] = price_range\n",
    "df_own_brand_5"
   ]
  },
  {
   "cell_type": "code",
   "execution_count": 268,
   "metadata": {},
   "outputs": [],
   "source": [
    "predict_brand_5 = model_brand_choice.predict_proba(df_own_brand_5)"
   ]
  },
  {
   "cell_type": "code",
   "execution_count": 269,
   "metadata": {},
   "outputs": [],
   "source": [
    "pr_own_brand_5 = predict_brand_5[: ][:, 4]"
   ]
  },
  {
   "cell_type": "code",
   "execution_count": 270,
   "metadata": {},
   "outputs": [
    {
     "data": {
      "text/plain": [
       "-1.09"
      ]
     },
     "execution_count": 270,
     "metadata": {},
     "output_type": "execute_result"
    }
   ],
   "source": [
    "beta5 = bc_coef.iloc[4, 4]\n",
    "beta5"
   ]
  },
  {
   "cell_type": "code",
   "execution_count": 271,
   "metadata": {},
   "outputs": [],
   "source": [
    "own_price_elasticity_brand_5 = beta5 * price_range * (1 - pr_own_brand_5)"
   ]
  },
  {
   "cell_type": "code",
   "execution_count": 272,
   "metadata": {},
   "outputs": [],
   "source": [
    "df_price_elasticities['Brand_5'] = own_price_elasticity_brand_5\n",
    "pd.options.display.max_rows = None\n",
    "#df_price_elasticities"
   ]
  },
  {
   "cell_type": "code",
   "execution_count": 273,
   "metadata": {},
   "outputs": [
    {
     "data": {
      "text/plain": [
       "Text(0.5, 1.0, 'Own Price Elasticity of Purchase Probability for Brand 5')"
      ]
     },
     "execution_count": 273,
     "metadata": {},
     "output_type": "execute_result"
    },
    {
     "data": {
      "image/png": "[encoded data removed]",
      "text/plain": [
       "<Figure size 648x432 with 1 Axes>"
      ]
     },
     "metadata": {},
     "output_type": "display_data"
    }
   ],
   "source": [
    "plt.figure(figsize = (9, 6))\n",
    "plt.plot(price_range, own_price_elasticity_brand_5, color = 'grey')\n",
    "plt.xlabel('Price 5')\n",
    "plt.ylabel('Elasticity')\n",
    "plt.title('Own Price Elasticity of Purchase Probability for Brand 5')"
   ]
  },
  {
   "cell_type": "markdown",
   "metadata": {},
   "source": [
    "## Cross Price Elasticity Brand 5, Cross Brand 4"
   ]
  },
  {
   "cell_type": "code",
   "execution_count": 274,
   "metadata": {},
   "outputs": [],
   "source": [
    "df_brand5_cross_brand4 = pd.DataFrame(index = np.arange(price_range.size))\n",
    "df_brand5_cross_brand4['Price_1'] = brand_choice['Price_1'].mean()\n",
    "df_brand5_cross_brand4['Price_2'] = brand_choice['Price_2'].mean()\n",
    "df_brand5_cross_brand4['Price_3'] = brand_choice['Price_3'].mean()\n",
    "df_brand5_cross_brand4['Price_4'] = price_range\n",
    "df_brand5_cross_brand4['Price_5'] = brand_choice['Price_5'].mean()"
   ]
  },
  {
   "cell_type": "code",
   "execution_count": 275,
   "metadata": {},
   "outputs": [
    {
     "data": {
      "text/html": [
       "<div>\n",
       "<style scoped>\n",
       "    .dataframe tbody tr th:only-of-type {\n",
       "        vertical-align: middle;\n",
       "    }\n",
       "\n",
       "    .dataframe tbody tr th {\n",
       "        vertical-align: top;\n",
       "    }\n",
       "\n",
       "    .dataframe thead th {\n",
       "        text-align: right;\n",
       "    }\n",
       "</style>\n",
       "<table border=\"1\" class=\"dataframe\">\n",
       "  <thead>\n",
       "    <tr style=\"text-align: right;\">\n",
       "      <th></th>\n",
       "      <th>Price_1</th>\n",
       "      <th>Price_2</th>\n",
       "      <th>Price_3</th>\n",
       "      <th>Price_4</th>\n",
       "      <th>Price_5</th>\n",
       "    </tr>\n",
       "  </thead>\n",
       "  <tbody>\n",
       "    <tr>\n",
       "      <th>0</th>\n",
       "      <td>1.384559</td>\n",
       "      <td>1.764717</td>\n",
       "      <td>2.006694</td>\n",
       "      <td>0.50</td>\n",
       "      <td>2.654296</td>\n",
       "    </tr>\n",
       "    <tr>\n",
       "      <th>1</th>\n",
       "      <td>1.384559</td>\n",
       "      <td>1.764717</td>\n",
       "      <td>2.006694</td>\n",
       "      <td>0.51</td>\n",
       "      <td>2.654296</td>\n",
       "    </tr>\n",
       "    <tr>\n",
       "      <th>2</th>\n",
       "      <td>1.384559</td>\n",
       "      <td>1.764717</td>\n",
       "      <td>2.006694</td>\n",
       "      <td>0.52</td>\n",
       "      <td>2.654296</td>\n",
       "    </tr>\n",
       "    <tr>\n",
       "      <th>3</th>\n",
       "      <td>1.384559</td>\n",
       "      <td>1.764717</td>\n",
       "      <td>2.006694</td>\n",
       "      <td>0.53</td>\n",
       "      <td>2.654296</td>\n",
       "    </tr>\n",
       "    <tr>\n",
       "      <th>4</th>\n",
       "      <td>1.384559</td>\n",
       "      <td>1.764717</td>\n",
       "      <td>2.006694</td>\n",
       "      <td>0.54</td>\n",
       "      <td>2.654296</td>\n",
       "    </tr>\n",
       "  </tbody>\n",
       "</table>\n",
       "</div>"
      ],
      "text/plain": [
       "    Price_1   Price_2   Price_3  Price_4   Price_5\n",
       "0  1.384559  1.764717  2.006694     0.50  2.654296\n",
       "1  1.384559  1.764717  2.006694     0.51  2.654296\n",
       "2  1.384559  1.764717  2.006694     0.52  2.654296\n",
       "3  1.384559  1.764717  2.006694     0.53  2.654296\n",
       "4  1.384559  1.764717  2.006694     0.54  2.654296"
      ]
     },
     "execution_count": 275,
     "metadata": {},
     "output_type": "execute_result"
    }
   ],
   "source": [
    "df_brand5_cross_brand4.head()"
   ]
  },
  {
   "cell_type": "code",
   "execution_count": 276,
   "metadata": {},
   "outputs": [],
   "source": [
    "predict_brand5_cross_brand4 = model_brand_choice.predict_proba(df_brand5_cross_brand4)"
   ]
  },
  {
   "cell_type": "code",
   "execution_count": 277,
   "metadata": {},
   "outputs": [],
   "source": [
    "# As now we're interested in what the probability of choosing the competitor brand is, \n",
    "# we need to select the purchase probability for brand 4, contained in the 4th column with index 3. \n",
    "pr_brand_4 = predict_brand5_cross_brand4[:][:, 3]"
   ]
  },
  {
   "cell_type": "code",
   "execution_count": 278,
   "metadata": {},
   "outputs": [
    {
     "data": {
      "text/plain": [
       "-1.09"
      ]
     },
     "execution_count": 278,
     "metadata": {},
     "output_type": "execute_result"
    }
   ],
   "source": [
    "beta5"
   ]
  },
  {
   "cell_type": "code",
   "execution_count": 279,
   "metadata": {},
   "outputs": [],
   "source": [
    "brand5_cross_brand4_price_elasticity = -beta5 * price_range * pr_brand_4"
   ]
  },
  {
   "cell_type": "code",
   "execution_count": 280,
   "metadata": {},
   "outputs": [],
   "source": [
    "df_price_elasticities['Brand_5_Cross_Brand_4'] = brand5_cross_brand4_price_elasticity\n",
    "#df_price_elasticities"
   ]
  },
  {
   "cell_type": "code",
   "execution_count": 281,
   "metadata": {},
   "outputs": [
    {
     "data": {
      "text/plain": [
       "Text(0.5, 1.0, 'Cross Price Elasticity of Brand 5 wrt to Brand 4')"
      ]
     },
     "execution_count": 281,
     "metadata": {},
     "output_type": "execute_result"
    },
    {
     "data": {
      "image/png": "[encoded data removed]",
      "text/plain": [
       "<Figure size 648x432 with 1 Axes>"
      ]
     },
     "metadata": {},
     "output_type": "display_data"
    }
   ],
   "source": [
    "plt.figure(figsize = (9, 6))\n",
    "plt.plot(price_range, brand5_cross_brand4_price_elasticity, color = 'grey')\n",
    "plt.xlabel('Price 4')\n",
    "plt.ylabel('Elasticity')\n",
    "plt.title('Cross Price Elasticity of Brand 5 wrt to Brand 4')"
   ]
  },
  {
   "cell_type": "markdown",
   "metadata": {},
   "source": [
    "| E (cross brand ) > 0 substitude\n",
    "\n",
    "| E ( cross brand ) | >| E (own brand) strong susbitude\n",
    "Purchase probability of brand 5 still increases with the increases in price of brand 4\n",
    "\n",
    "Cross brand elasticity is greater than 0, this means brand 4 is good substitute to our brand 5."
   ]
  },
  {
   "cell_type": "markdown",
   "metadata": {},
   "source": [
    "## Own and Cross-Price Elasticity by Segment"
   ]
  },
  {
   "cell_type": "markdown",
   "metadata": {},
   "source": [
    "### $\\color{orange}{\\text{Well-Off}}$"
   ]
  },
  {
   "cell_type": "code",
   "execution_count": 282,
   "metadata": {},
   "outputs": [],
   "source": [
    "brand_choice_s3 = df_pa[df_pa['Incidence'] == 1]\n",
    "brand_choice_s3 = brand_choice_s3[brand_choice_s3['Segment'] == 3]\n",
    "\n",
    "pd.options.display.max_rows = 100\n",
    "#brand_choice_s3"
   ]
  },
  {
   "cell_type": "code",
   "execution_count": 283,
   "metadata": {},
   "outputs": [
    {
     "data": {
      "text/html": [
       "<div>\n",
       "<style scoped>\n",
       "    .dataframe tbody tr th:only-of-type {\n",
       "        vertical-align: middle;\n",
       "    }\n",
       "\n",
       "    .dataframe tbody tr th {\n",
       "        vertical-align: top;\n",
       "    }\n",
       "\n",
       "    .dataframe thead tr th {\n",
       "        text-align: left;\n",
       "    }\n",
       "</style>\n",
       "<table border=\"1\" class=\"dataframe\">\n",
       "  <thead>\n",
       "    <tr>\n",
       "      <th></th>\n",
       "      <th>Coef_Brand_1</th>\n",
       "      <th>Coef_Brand_2</th>\n",
       "      <th>Coef_Brand_3</th>\n",
       "      <th>Coef_Brand_4</th>\n",
       "      <th>Coef_Brand_5</th>\n",
       "    </tr>\n",
       "  </thead>\n",
       "  <tbody>\n",
       "    <tr>\n",
       "      <th>Price_1</th>\n",
       "      <td>-2.15</td>\n",
       "      <td>1.33</td>\n",
       "      <td>0.82</td>\n",
       "      <td>0.12</td>\n",
       "      <td>-0.11</td>\n",
       "    </tr>\n",
       "    <tr>\n",
       "      <th>Price_2</th>\n",
       "      <td>-0.96</td>\n",
       "      <td>-1.38</td>\n",
       "      <td>1.29</td>\n",
       "      <td>0.78</td>\n",
       "      <td>0.27</td>\n",
       "    </tr>\n",
       "    <tr>\n",
       "      <th>Price_3</th>\n",
       "      <td>2.01</td>\n",
       "      <td>-1.65</td>\n",
       "      <td>-0.49</td>\n",
       "      <td>0.03</td>\n",
       "      <td>0.11</td>\n",
       "    </tr>\n",
       "    <tr>\n",
       "      <th>Price_4</th>\n",
       "      <td>2.52</td>\n",
       "      <td>0.96</td>\n",
       "      <td>-0.25</td>\n",
       "      <td>-1.90</td>\n",
       "      <td>-1.33</td>\n",
       "    </tr>\n",
       "    <tr>\n",
       "      <th>Price_5</th>\n",
       "      <td>-0.99</td>\n",
       "      <td>-0.30</td>\n",
       "      <td>1.17</td>\n",
       "      <td>0.56</td>\n",
       "      <td>-0.44</td>\n",
       "    </tr>\n",
       "  </tbody>\n",
       "</table>\n",
       "</div>"
      ],
      "text/plain": [
       "        Coef_Brand_1 Coef_Brand_2 Coef_Brand_3 Coef_Brand_4 Coef_Brand_5\n",
       "Price_1        -2.15         1.33         0.82         0.12        -0.11\n",
       "Price_2        -0.96        -1.38         1.29         0.78         0.27\n",
       "Price_3         2.01        -1.65        -0.49         0.03         0.11\n",
       "Price_4         2.52         0.96        -0.25        -1.90        -1.33\n",
       "Price_5        -0.99        -0.30         1.17         0.56        -0.44"
      ]
     },
     "execution_count": 283,
     "metadata": {},
     "output_type": "execute_result"
    }
   ],
   "source": [
    "# model estimation\n",
    "Y = brand_choice_s3['Brand']\n",
    "brand_choice_s3 = pd.get_dummies(brand_choice_s3, columns=['Brand'], prefix = 'Brand', prefix_sep = '_')\n",
    "X = brand_choice_s3[features]\n",
    "model_brand_choice_s3 = LogisticRegression(solver = 'sag', multi_class = 'multinomial', max_iter = 300)\n",
    "model_brand_choice_s3.fit(X, Y)\n",
    "\n",
    "#coefficients table for segment 3\n",
    "bc_coef = pd.DataFrame(np.transpose(model_brand_choice_s3.coef_))\n",
    "bc_coef.columns = [coefficients]\n",
    "bc_coef.index = [prices]\n",
    "bc_coef = bc_coef.round(2)\n",
    "bc_coef"
   ]
  },
  {
   "cell_type": "markdown",
   "metadata": {},
   "source": [
    "### $\\color{orange}{\\text{Own-Brand Price Elasticity}}$"
   ]
  },
  {
   "cell_type": "code",
   "execution_count": 284,
   "metadata": {},
   "outputs": [],
   "source": [
    "df_own_brand_5_s3 = pd.DataFrame(index = np.arange(price_range.size))\n",
    "df_own_brand_5_s3['Price_1'] = brand_choice_s3['Price_1'].mean()\n",
    "df_own_brand_5_s3['Price_2'] = brand_choice_s3['Price_2'].mean()\n",
    "df_own_brand_5_s3['Price_3'] = brand_choice_s3['Price_3'].mean()\n",
    "df_own_brand_5_s3['Price_4'] = brand_choice_s3['Price_4'].mean()\n",
    "df_own_brand_5_s3['Price_5'] = price_range\n",
    "\n",
    "predict_own_brand_5_s3 = model_brand_choice_s3.predict_proba(df_own_brand_5_s3)\n",
    "pr_own_brand_5_s3 = predict_own_brand_5_s3[: ][: , 4]\n",
    "\n",
    "own_price_elasticity_brand_5_s3 =  beta5 * price_range * (1 - pr_own_brand_5_s3)\n",
    "df_price_elasticities['Brand 5 S3'] = own_price_elasticity_brand_5_s3"
   ]
  },
  {
   "cell_type": "markdown",
   "metadata": {},
   "source": [
    "### $\\color{orange}{\\text{Cross-Brand Price Elasticity}}$"
   ]
  },
  {
   "cell_type": "code",
   "execution_count": 285,
   "metadata": {},
   "outputs": [
    {
     "data": {
      "text/html": [
       "<div>\n",
       "<style scoped>\n",
       "    .dataframe tbody tr th:only-of-type {\n",
       "        vertical-align: middle;\n",
       "    }\n",
       "\n",
       "    .dataframe tbody tr th {\n",
       "        vertical-align: top;\n",
       "    }\n",
       "\n",
       "    .dataframe thead th {\n",
       "        text-align: right;\n",
       "    }\n",
       "</style>\n",
       "<table border=\"1\" class=\"dataframe\">\n",
       "  <thead>\n",
       "    <tr style=\"text-align: right;\">\n",
       "      <th></th>\n",
       "      <th>Price_Point</th>\n",
       "      <th>Mean_PE</th>\n",
       "      <th>PE_Segment_0</th>\n",
       "      <th>PE_Segment_1</th>\n",
       "      <th>PE_Segment_2</th>\n",
       "      <th>PE_Segment_3</th>\n",
       "      <th>Elasticity_Promotion_1</th>\n",
       "      <th>Elasticity_Promotion_0</th>\n",
       "      <th>Brand_5</th>\n",
       "      <th>Brand_5_Cross_Brand_4</th>\n",
       "      <th>Brand 5 S3</th>\n",
       "      <th>Brand_5_Cross_Brand_4_S3</th>\n",
       "    </tr>\n",
       "  </thead>\n",
       "  <tbody>\n",
       "    <tr>\n",
       "      <th>0</th>\n",
       "      <td>0.50</td>\n",
       "      <td>-0.096405</td>\n",
       "      <td>-0.211130</td>\n",
       "      <td>-0.119188</td>\n",
       "      <td>-0.030911</td>\n",
       "      <td>-0.168036</td>\n",
       "      <td>-0.125760</td>\n",
       "      <td>-0.195682</td>\n",
       "      <td>-0.049056</td>\n",
       "      <td>0.332012</td>\n",
       "      <td>-0.297310</td>\n",
       "      <td>0.482421</td>\n",
       "    </tr>\n",
       "    <tr>\n",
       "      <th>1</th>\n",
       "      <td>0.51</td>\n",
       "      <td>-0.100473</td>\n",
       "      <td>-0.217699</td>\n",
       "      <td>-0.123376</td>\n",
       "      <td>-0.032677</td>\n",
       "      <td>-0.172960</td>\n",
       "      <td>-0.129877</td>\n",
       "      <td>-0.201804</td>\n",
       "      <td>-0.050617</td>\n",
       "      <td>0.337288</td>\n",
       "      <td>-0.303356</td>\n",
       "      <td>0.491726</td>\n",
       "    </tr>\n",
       "    <tr>\n",
       "      <th>2</th>\n",
       "      <td>0.52</td>\n",
       "      <td>-0.104668</td>\n",
       "      <td>-0.224375</td>\n",
       "      <td>-0.127657</td>\n",
       "      <td>-0.034531</td>\n",
       "      <td>-0.177954</td>\n",
       "      <td>-0.134073</td>\n",
       "      <td>-0.208029</td>\n",
       "      <td>-0.052207</td>\n",
       "      <td>0.342507</td>\n",
       "      <td>-0.309413</td>\n",
       "      <td>0.501016</td>\n",
       "    </tr>\n",
       "    <tr>\n",
       "      <th>3</th>\n",
       "      <td>0.53</td>\n",
       "      <td>-0.108993</td>\n",
       "      <td>-0.231161</td>\n",
       "      <td>-0.132033</td>\n",
       "      <td>-0.036475</td>\n",
       "      <td>-0.183019</td>\n",
       "      <td>-0.138349</td>\n",
       "      <td>-0.214357</td>\n",
       "      <td>-0.053827</td>\n",
       "      <td>0.347669</td>\n",
       "      <td>-0.315480</td>\n",
       "      <td>0.510290</td>\n",
       "    </tr>\n",
       "    <tr>\n",
       "      <th>4</th>\n",
       "      <td>0.54</td>\n",
       "      <td>-0.113452</td>\n",
       "      <td>-0.238055</td>\n",
       "      <td>-0.136506</td>\n",
       "      <td>-0.038514</td>\n",
       "      <td>-0.188156</td>\n",
       "      <td>-0.142706</td>\n",
       "      <td>-0.220790</td>\n",
       "      <td>-0.055478</td>\n",
       "      <td>0.352773</td>\n",
       "      <td>-0.321558</td>\n",
       "      <td>0.519548</td>\n",
       "    </tr>\n",
       "    <tr>\n",
       "      <th>...</th>\n",
       "      <td>...</td>\n",
       "      <td>...</td>\n",
       "      <td>...</td>\n",
       "      <td>...</td>\n",
       "      <td>...</td>\n",
       "      <td>...</td>\n",
       "      <td>...</td>\n",
       "      <td>...</td>\n",
       "      <td>...</td>\n",
       "      <td>...</td>\n",
       "      <td>...</td>\n",
       "      <td>...</td>\n",
       "    </tr>\n",
       "    <tr>\n",
       "      <th>295</th>\n",
       "      <td>3.45</td>\n",
       "      <td>-8.012353</td>\n",
       "      <td>-5.051646</td>\n",
       "      <td>-5.685795</td>\n",
       "      <td>-12.542962</td>\n",
       "      <td>-4.021059</td>\n",
       "      <td>-4.861963</td>\n",
       "      <td>-4.983535</td>\n",
       "      <td>-3.231573</td>\n",
       "      <td>0.162233</td>\n",
       "      <td>-3.337311</td>\n",
       "      <td>0.157470</td>\n",
       "    </tr>\n",
       "    <tr>\n",
       "      <th>296</th>\n",
       "      <td>3.46</td>\n",
       "      <td>-8.037601</td>\n",
       "      <td>-5.068502</td>\n",
       "      <td>-5.705959</td>\n",
       "      <td>-12.579882</td>\n",
       "      <td>-4.035923</td>\n",
       "      <td>-4.880165</td>\n",
       "      <td>-5.000441</td>\n",
       "      <td>-3.247767</td>\n",
       "      <td>0.160332</td>\n",
       "      <td>-3.350641</td>\n",
       "      <td>0.152049</td>\n",
       "    </tr>\n",
       "    <tr>\n",
       "      <th>297</th>\n",
       "      <td>3.47</td>\n",
       "      <td>-8.062815</td>\n",
       "      <td>-5.085340</td>\n",
       "      <td>-5.726086</td>\n",
       "      <td>-12.616786</td>\n",
       "      <td>-4.050771</td>\n",
       "      <td>-4.898336</td>\n",
       "      <td>-5.017328</td>\n",
       "      <td>-3.263929</td>\n",
       "      <td>0.158447</td>\n",
       "      <td>-3.363969</td>\n",
       "      <td>0.146793</td>\n",
       "    </tr>\n",
       "    <tr>\n",
       "      <th>298</th>\n",
       "      <td>3.48</td>\n",
       "      <td>-8.087995</td>\n",
       "      <td>-5.102159</td>\n",
       "      <td>-5.746176</td>\n",
       "      <td>-12.653673</td>\n",
       "      <td>-4.065603</td>\n",
       "      <td>-4.916477</td>\n",
       "      <td>-5.034194</td>\n",
       "      <td>-3.280058</td>\n",
       "      <td>0.156575</td>\n",
       "      <td>-3.377292</td>\n",
       "      <td>0.141698</td>\n",
       "    </tr>\n",
       "    <tr>\n",
       "      <th>299</th>\n",
       "      <td>3.49</td>\n",
       "      <td>-8.113142</td>\n",
       "      <td>-5.118960</td>\n",
       "      <td>-5.766230</td>\n",
       "      <td>-12.690544</td>\n",
       "      <td>-4.080418</td>\n",
       "      <td>-4.934588</td>\n",
       "      <td>-5.051041</td>\n",
       "      <td>-3.296155</td>\n",
       "      <td>0.154718</td>\n",
       "      <td>-3.390613</td>\n",
       "      <td>0.136761</td>\n",
       "    </tr>\n",
       "  </tbody>\n",
       "</table>\n",
       "<p>300 rows × 12 columns</p>\n",
       "</div>"
      ],
      "text/plain": [
       "     Price_Point   Mean_PE  PE_Segment_0  PE_Segment_1  PE_Segment_2  \\\n",
       "0           0.50 -0.096405     -0.211130     -0.119188     -0.030911   \n",
       "1           0.51 -0.100473     -0.217699     -0.123376     -0.032677   \n",
       "2           0.52 -0.104668     -0.224375     -0.127657     -0.034531   \n",
       "3           0.53 -0.108993     -0.231161     -0.132033     -0.036475   \n",
       "4           0.54 -0.113452     -0.238055     -0.136506     -0.038514   \n",
       "..           ...       ...           ...           ...           ...   \n",
       "295         3.45 -8.012353     -5.051646     -5.685795    -12.542962   \n",
       "296         3.46 -8.037601     -5.068502     -5.705959    -12.579882   \n",
       "297         3.47 -8.062815     -5.085340     -5.726086    -12.616786   \n",
       "298         3.48 -8.087995     -5.102159     -5.746176    -12.653673   \n",
       "299         3.49 -8.113142     -5.118960     -5.766230    -12.690544   \n",
       "\n",
       "     PE_Segment_3  Elasticity_Promotion_1  Elasticity_Promotion_0   Brand_5  \\\n",
       "0       -0.168036               -0.125760               -0.195682 -0.049056   \n",
       "1       -0.172960               -0.129877               -0.201804 -0.050617   \n",
       "2       -0.177954               -0.134073               -0.208029 -0.052207   \n",
       "3       -0.183019               -0.138349               -0.214357 -0.053827   \n",
       "4       -0.188156               -0.142706               -0.220790 -0.055478   \n",
       "..            ...                     ...                     ...       ...   \n",
       "295     -4.021059               -4.861963               -4.983535 -3.231573   \n",
       "296     -4.035923               -4.880165               -5.000441 -3.247767   \n",
       "297     -4.050771               -4.898336               -5.017328 -3.263929   \n",
       "298     -4.065603               -4.916477               -5.034194 -3.280058   \n",
       "299     -4.080418               -4.934588               -5.051041 -3.296155   \n",
       "\n",
       "     Brand_5_Cross_Brand_4  Brand 5 S3  Brand_5_Cross_Brand_4_S3  \n",
       "0                 0.332012   -0.297310                  0.482421  \n",
       "1                 0.337288   -0.303356                  0.491726  \n",
       "2                 0.342507   -0.309413                  0.501016  \n",
       "3                 0.347669   -0.315480                  0.510290  \n",
       "4                 0.352773   -0.321558                  0.519548  \n",
       "..                     ...         ...                       ...  \n",
       "295               0.162233   -3.337311                  0.157470  \n",
       "296               0.160332   -3.350641                  0.152049  \n",
       "297               0.158447   -3.363969                  0.146793  \n",
       "298               0.156575   -3.377292                  0.141698  \n",
       "299               0.154718   -3.390613                  0.136761  \n",
       "\n",
       "[300 rows x 12 columns]"
      ]
     },
     "execution_count": 285,
     "metadata": {},
     "output_type": "execute_result"
    }
   ],
   "source": [
    "df_brand5_cross_brand4_s3 = pd.DataFrame(index = np.arange(price_range.size))\n",
    "df_brand5_cross_brand4_s3['Price_1'] = brand_choice_s3['Price_1'].mean()\n",
    "df_brand5_cross_brand4_s3['Price_2'] = brand_choice_s3['Price_2'].mean()\n",
    "df_brand5_cross_brand4_s3['Price_3'] = brand_choice_s3['Price_3'].mean()\n",
    "df_brand5_cross_brand4_s3['Price_4'] = price_range\n",
    "df_brand5_cross_brand4_s3['Price_5'] = brand_choice_s3['Price_5'].mean()\n",
    "\n",
    "predict_brand5_cross_brand4_s3 = model_brand_choice_s3.predict_proba(df_brand5_cross_brand4_s3)\n",
    "pr_cross_brand_5_s3 = predict_brand5_cross_brand4_s3[: ][: , 3]\n",
    "\n",
    "brand5_cross_brand4_price_elasticity_s3 = -beta5 * price_range * pr_cross_brand_5_s3\n",
    "df_price_elasticities['Brand_5_Cross_Brand_4_S3'] = brand5_cross_brand4_price_elasticity_s3\n",
    "pd.options.display.max_rows = 10\n",
    "df_price_elasticities"
   ]
  },
  {
   "cell_type": "code",
   "execution_count": 286,
   "metadata": {},
   "outputs": [
    {
     "data": {
      "image/png": "[encoded data removed]",
      "text/plain": [
       "<Figure size 1008x288 with 2 Axes>"
      ]
     },
     "metadata": {},
     "output_type": "display_data"
    }
   ],
   "source": [
    "fig, axs = plt.subplots(1, 2, figsize = (14, 4))\n",
    "axs[0].plot(price_range, own_price_elasticity_brand_5_s3, color = 'orange')\n",
    "axs[0].set_title('Brand 5 Segment Well-Off')\n",
    "axs[0].set_xlabel('Price 5')\n",
    "\n",
    "axs[1].plot(price_range, brand5_cross_brand4_price_elasticity_s3, color = 'orange')\n",
    "axs[1].set_title('Cross Price Elasticity of Brand 5 wrt Brand 4 Segment Well-Off')\n",
    "axs[1].set_xlabel('Price 4')\n",
    "\n",
    "for ax in axs.flat:\n",
    "    ax.set(ylabel = 'Elasticity')"
   ]
  },
  {
   "cell_type": "markdown",
   "metadata": {},
   "source": [
    "### $\\color{blue}{\\text{Standard}}$"
   ]
  },
  {
   "cell_type": "code",
   "execution_count": 287,
   "metadata": {},
   "outputs": [
    {
     "data": {
      "text/html": [
       "<div>\n",
       "<style scoped>\n",
       "    .dataframe tbody tr th:only-of-type {\n",
       "        vertical-align: middle;\n",
       "    }\n",
       "\n",
       "    .dataframe tbody tr th {\n",
       "        vertical-align: top;\n",
       "    }\n",
       "\n",
       "    .dataframe thead th {\n",
       "        text-align: right;\n",
       "    }\n",
       "</style>\n",
       "<table border=\"1\" class=\"dataframe\">\n",
       "  <thead>\n",
       "    <tr style=\"text-align: right;\">\n",
       "      <th></th>\n",
       "      <th>ID</th>\n",
       "      <th>Day</th>\n",
       "      <th>Incidence</th>\n",
       "      <th>Brand</th>\n",
       "      <th>Quantity</th>\n",
       "      <th>Last_Inc_Brand</th>\n",
       "      <th>Last_Inc_Quantity</th>\n",
       "      <th>Price_1</th>\n",
       "      <th>Price_2</th>\n",
       "      <th>Price_3</th>\n",
       "      <th>...</th>\n",
       "      <th>Age</th>\n",
       "      <th>Education</th>\n",
       "      <th>Income</th>\n",
       "      <th>Occupation</th>\n",
       "      <th>Settlement size</th>\n",
       "      <th>Segment</th>\n",
       "      <th>Segment_0</th>\n",
       "      <th>Segment_1</th>\n",
       "      <th>Segment_2</th>\n",
       "      <th>Segment_3</th>\n",
       "    </tr>\n",
       "  </thead>\n",
       "  <tbody>\n",
       "    <tr>\n",
       "      <th>2398</th>\n",
       "      <td>200000024</td>\n",
       "      <td>44</td>\n",
       "      <td>1</td>\n",
       "      <td>2</td>\n",
       "      <td>2</td>\n",
       "      <td>0</td>\n",
       "      <td>0</td>\n",
       "      <td>1.35</td>\n",
       "      <td>1.58</td>\n",
       "      <td>1.97</td>\n",
       "      <td>...</td>\n",
       "      <td>32</td>\n",
       "      <td>1</td>\n",
       "      <td>88428</td>\n",
       "      <td>0</td>\n",
       "      <td>0</td>\n",
       "      <td>0</td>\n",
       "      <td>1</td>\n",
       "      <td>0</td>\n",
       "      <td>0</td>\n",
       "      <td>0</td>\n",
       "    </tr>\n",
       "    <tr>\n",
       "      <th>2403</th>\n",
       "      <td>200000024</td>\n",
       "      <td>98</td>\n",
       "      <td>1</td>\n",
       "      <td>2</td>\n",
       "      <td>2</td>\n",
       "      <td>0</td>\n",
       "      <td>0</td>\n",
       "      <td>1.47</td>\n",
       "      <td>1.90</td>\n",
       "      <td>1.95</td>\n",
       "      <td>...</td>\n",
       "      <td>32</td>\n",
       "      <td>1</td>\n",
       "      <td>88428</td>\n",
       "      <td>0</td>\n",
       "      <td>0</td>\n",
       "      <td>0</td>\n",
       "      <td>1</td>\n",
       "      <td>0</td>\n",
       "      <td>0</td>\n",
       "      <td>0</td>\n",
       "    </tr>\n",
       "    <tr>\n",
       "      <th>2408</th>\n",
       "      <td>200000024</td>\n",
       "      <td>143</td>\n",
       "      <td>1</td>\n",
       "      <td>2</td>\n",
       "      <td>3</td>\n",
       "      <td>0</td>\n",
       "      <td>0</td>\n",
       "      <td>1.21</td>\n",
       "      <td>1.35</td>\n",
       "      <td>1.99</td>\n",
       "      <td>...</td>\n",
       "      <td>32</td>\n",
       "      <td>1</td>\n",
       "      <td>88428</td>\n",
       "      <td>0</td>\n",
       "      <td>0</td>\n",
       "      <td>0</td>\n",
       "      <td>1</td>\n",
       "      <td>0</td>\n",
       "      <td>0</td>\n",
       "      <td>0</td>\n",
       "    </tr>\n",
       "    <tr>\n",
       "      <th>2410</th>\n",
       "      <td>200000024</td>\n",
       "      <td>162</td>\n",
       "      <td>1</td>\n",
       "      <td>2</td>\n",
       "      <td>5</td>\n",
       "      <td>0</td>\n",
       "      <td>0</td>\n",
       "      <td>1.39</td>\n",
       "      <td>1.90</td>\n",
       "      <td>1.94</td>\n",
       "      <td>...</td>\n",
       "      <td>32</td>\n",
       "      <td>1</td>\n",
       "      <td>88428</td>\n",
       "      <td>0</td>\n",
       "      <td>0</td>\n",
       "      <td>0</td>\n",
       "      <td>1</td>\n",
       "      <td>0</td>\n",
       "      <td>0</td>\n",
       "      <td>0</td>\n",
       "    </tr>\n",
       "    <tr>\n",
       "      <th>2417</th>\n",
       "      <td>200000024</td>\n",
       "      <td>217</td>\n",
       "      <td>1</td>\n",
       "      <td>5</td>\n",
       "      <td>1</td>\n",
       "      <td>0</td>\n",
       "      <td>0</td>\n",
       "      <td>1.34</td>\n",
       "      <td>1.89</td>\n",
       "      <td>1.99</td>\n",
       "      <td>...</td>\n",
       "      <td>32</td>\n",
       "      <td>1</td>\n",
       "      <td>88428</td>\n",
       "      <td>0</td>\n",
       "      <td>0</td>\n",
       "      <td>0</td>\n",
       "      <td>1</td>\n",
       "      <td>0</td>\n",
       "      <td>0</td>\n",
       "      <td>0</td>\n",
       "    </tr>\n",
       "  </tbody>\n",
       "</table>\n",
       "<p>5 rows × 29 columns</p>\n",
       "</div>"
      ],
      "text/plain": [
       "             ID  Day  Incidence  Brand  Quantity  Last_Inc_Brand  \\\n",
       "2398  200000024   44          1      2         2               0   \n",
       "2403  200000024   98          1      2         2               0   \n",
       "2408  200000024  143          1      2         3               0   \n",
       "2410  200000024  162          1      2         5               0   \n",
       "2417  200000024  217          1      5         1               0   \n",
       "\n",
       "      Last_Inc_Quantity  Price_1  Price_2  Price_3  ...  Age  Education  \\\n",
       "2398                  0     1.35     1.58     1.97  ...   32          1   \n",
       "2403                  0     1.47     1.90     1.95  ...   32          1   \n",
       "2408                  0     1.21     1.35     1.99  ...   32          1   \n",
       "2410                  0     1.39     1.90     1.94  ...   32          1   \n",
       "2417                  0     1.34     1.89     1.99  ...   32          1   \n",
       "\n",
       "      Income  Occupation  Settlement size  Segment  Segment_0  Segment_1  \\\n",
       "2398   88428           0                0        0          1          0   \n",
       "2403   88428           0                0        0          1          0   \n",
       "2408   88428           0                0        0          1          0   \n",
       "2410   88428           0                0        0          1          0   \n",
       "2417   88428           0                0        0          1          0   \n",
       "\n",
       "      Segment_2  Segment_3  \n",
       "2398          0          0  \n",
       "2403          0          0  \n",
       "2408          0          0  \n",
       "2410          0          0  \n",
       "2417          0          0  \n",
       "\n",
       "[5 rows x 29 columns]"
      ]
     },
     "execution_count": 287,
     "metadata": {},
     "output_type": "execute_result"
    }
   ],
   "source": [
    "brand_choice_s0 = df_pa[df_pa['Incidence'] == 1]\n",
    "brand_choice_s0 = brand_choice_s0[brand_choice_s0['Segment'] == 0]\n",
    "brand_choice_s0.head()"
   ]
  },
  {
   "cell_type": "code",
   "execution_count": 288,
   "metadata": {},
   "outputs": [],
   "source": [
    "Y = brand_choice_s0['Brand']\n",
    "brand_choice_s0 = pd.get_dummies(brand_choice_s0, columns=['Brand'], prefix = 'Brand', prefix_sep = '_')\n",
    "X = brand_choice_s0[features]\n",
    "model_brand_choice_s0 = LogisticRegression(solver = 'sag', multi_class = 'multinomial', max_iter = 200)\n",
    "model_brand_choice_s0.fit(X, Y)\n",
    "\n",
    "bc_coef = pd.DataFrame(np.transpose(model_brand_choice_s0.coef_))\n",
    "bc_coef.columns = [coefficients]\n",
    "bc_coef.index = [prices]\n",
    "bc_coef = bc_coef.round(2)"
   ]
  },
  {
   "cell_type": "markdown",
   "metadata": {},
   "source": [
    "### $\\color{blue}{\\text{Own-Brand Price Elasticity}}$"
   ]
  },
  {
   "cell_type": "code",
   "execution_count": 289,
   "metadata": {},
   "outputs": [],
   "source": [
    "df_own_brand_5_s0 = pd.DataFrame(index = np.arange(price_range.size))\n",
    "df_own_brand_5_s0['Price_1'] = brand_choice_s0['Price_1'].mean()\n",
    "df_own_brand_5_s0['Price_2'] = brand_choice_s0['Price_2'].mean()\n",
    "df_own_brand_5_s0['Price_3'] = brand_choice_s0['Price_3'].mean()\n",
    "df_own_brand_5_s0['Price_4'] = brand_choice_s0['Price_4'].mean()\n",
    "df_own_brand_5_s0['Price_5'] = price_range\n",
    "\n",
    "predict_own_brand_5_s0 = model_brand_choice_s0.predict_proba(df_own_brand_5_s0)\n",
    "pr_own_brand_5_s0 = predict_own_brand_5_s0[: ][: , 4]\n",
    "\n",
    "own_price_elasticity_brand_5_s0 =  beta5 * price_range * (1 - pr_own_brand_5_s0)\n",
    "df_price_elasticities.insert(10, column = 'Brand 5 S0', value = own_price_elasticity_brand_5_s0)"
   ]
  },
  {
   "cell_type": "markdown",
   "metadata": {},
   "source": [
    "### $\\color{blue}{\\text{Cross-Brand Price Elasticity}}$"
   ]
  },
  {
   "cell_type": "code",
   "execution_count": 290,
   "metadata": {},
   "outputs": [],
   "source": [
    "df_brand5_cross_brand4_s0 = pd.DataFrame(index = np.arange(price_range.size))\n",
    "df_brand5_cross_brand4_s0['Price_1'] = brand_choice_s0['Price_1'].mean()\n",
    "df_brand5_cross_brand4_s0['Price_2'] = brand_choice_s0['Price_2'].mean()\n",
    "df_brand5_cross_brand4_s0['Price_3'] = brand_choice_s0['Price_3'].mean()\n",
    "df_brand5_cross_brand4_s0['Price_4'] = price_range\n",
    "df_brand5_cross_brand4_s0['Price_5'] = brand_choice_s0['Price_5'].mean()\n",
    "\n",
    "predict_brand5_cross_brand4_s0 = model_brand_choice_s0.predict_proba(df_brand5_cross_brand4_s0)\n",
    "pr_cross_brand_5_s0 = predict_brand5_cross_brand4_s0[: ][: , 3]\n",
    "\n",
    "brand5_cross_brand4_price_elasticity_s0 = -beta5 * price_range * pr_cross_brand_5_s0\n",
    "df_price_elasticities.insert(11, column = 'Brand_5_Cross_Brand_4_S0', value = brand5_cross_brand4_price_elasticity_s0)"
   ]
  },
  {
   "cell_type": "markdown",
   "metadata": {},
   "source": [
    "### $\\color{green}{\\text{Career-Focused}}$"
   ]
  },
  {
   "cell_type": "code",
   "execution_count": 291,
   "metadata": {},
   "outputs": [],
   "source": [
    "brand_choice_s1 = df_pa[df_pa['Incidence'] == 1]\n",
    "brand_choice_s1 = brand_choice_s1[brand_choice_s1['Segment'] == 1]"
   ]
  },
  {
   "cell_type": "code",
   "execution_count": 292,
   "metadata": {},
   "outputs": [],
   "source": [
    "Y = brand_choice_s1['Brand']\n",
    "brand_choice_s1 = pd.get_dummies(brand_choice_s1, columns=['Brand'], prefix = 'Brand', prefix_sep = '_')\n",
    "X = brand_choice_s1[features]\n",
    "model_brand_choice_s1 = LogisticRegression(solver = 'sag', multi_class = 'multinomial', max_iter = 300)\n",
    "model_brand_choice_s1.fit(X, Y)\n",
    "\n",
    "bc_coef = pd.DataFrame(np.transpose(model_brand_choice_s1.coef_))\n",
    "bc_coef.columns = [coefficients]\n",
    "bc_coef.index = [prices]\n",
    "bc_coef = bc_coef.round(2)"
   ]
  },
  {
   "cell_type": "markdown",
   "metadata": {},
   "source": [
    "### $\\color{green}{\\text{Own-Brand Price Elasticity}}$"
   ]
  },
  {
   "cell_type": "code",
   "execution_count": 293,
   "metadata": {},
   "outputs": [],
   "source": [
    "df_own_brand_5_s1 = pd.DataFrame(index = np.arange(price_range.size))\n",
    "df_own_brand_5_s1['Price_1'] = brand_choice_s1['Price_1'].mean()\n",
    "df_own_brand_5_s1['Price_2'] = brand_choice_s1['Price_2'].mean()\n",
    "df_own_brand_5_s1['Price_3'] = brand_choice_s1['Price_3'].mean()\n",
    "df_own_brand_5_s1['Price_4'] = brand_choice_s1['Price_4'].mean()\n",
    "df_own_brand_5_s1['Price_5'] = price_range\n",
    "\n",
    "predict_own_brand_5_s1 = model_brand_choice_s1.predict_proba(df_own_brand_5_s1)\n",
    "pr_own_brand_5_s1 = predict_own_brand_5_s1[: ][: , 4]\n",
    "\n",
    "own_price_elasticity_brand_5_s1 =  beta5 * price_range * (1 - pr_own_brand_5_s1)\n",
    "df_price_elasticities.insert(12, column = 'Brand 5 S1', value = own_price_elasticity_brand_5_s1)"
   ]
  },
  {
   "cell_type": "markdown",
   "metadata": {},
   "source": [
    "### $\\color{green}{\\text{Cross-Brand Price Elasticity}}$"
   ]
  },
  {
   "cell_type": "code",
   "execution_count": 294,
   "metadata": {},
   "outputs": [],
   "source": [
    "df_brand5_cross_brand4_s1 = pd.DataFrame(index = np.arange(price_range.size))\n",
    "df_brand5_cross_brand4_s1['Price_1'] = brand_choice_s1['Price_1'].mean()\n",
    "df_brand5_cross_brand4_s1['Price_2'] = brand_choice_s1['Price_2'].mean()\n",
    "df_brand5_cross_brand4_s1['Price_3'] = brand_choice_s1['Price_3'].mean()\n",
    "df_brand5_cross_brand4_s1['Price_4'] = price_range\n",
    "df_brand5_cross_brand4_s1['Price_5'] = brand_choice_s1['Price_5'].mean()\n",
    "\n",
    "predict_brand5_cross_brand4_s1 = model_brand_choice_s1.predict_proba(df_brand5_cross_brand4_s1)\n",
    "pr_cross_brand_5_s1 = predict_brand5_cross_brand4_s1[: ][: , 3]\n",
    "\n",
    "brand5_cross_brand4_price_elasticity_s1 = -beta5 * price_range * pr_cross_brand_5_s1\n",
    "df_price_elasticities.insert(13, column = 'Brand_5_Cross_Brand_4_S1', value = brand5_cross_brand4_price_elasticity_s1)"
   ]
  },
  {
   "cell_type": "markdown",
   "metadata": {},
   "source": [
    "### $\\color{red}{\\text{Fewer-Opportunities}}$"
   ]
  },
  {
   "cell_type": "code",
   "execution_count": 295,
   "metadata": {},
   "outputs": [],
   "source": [
    "brand_choice_s2 = df_pa[df_pa['Incidence'] == 1]\n",
    "brand_choice_s2 = brand_choice_s2[brand_choice_s2['Segment'] == 2]"
   ]
  },
  {
   "cell_type": "code",
   "execution_count": 296,
   "metadata": {},
   "outputs": [],
   "source": [
    "Y = brand_choice_s2['Brand']\n",
    "brand_choice_s2 = pd.get_dummies(brand_choice_s2, columns=['Brand'], prefix = 'Brand', prefix_sep = '_')\n",
    "X = brand_choice_s2[features]\n",
    "model_brand_choice_s2 = LogisticRegression(solver = 'sag', multi_class = 'multinomial', max_iter = 300)\n",
    "model_brand_choice_s2.fit(X, Y)\n",
    "\n",
    "bc_coef = pd.DataFrame(np.transpose(model_brand_choice_s2.coef_))\n",
    "bc_coef.columns = [coefficients]\n",
    "bc_coef.index = [prices]\n",
    "bc_coef = bc_coef.round(2)"
   ]
  },
  {
   "cell_type": "markdown",
   "metadata": {},
   "source": [
    "### $\\color{red}{\\text{Own-Brand Price Elasticity}}$"
   ]
  },
  {
   "cell_type": "code",
   "execution_count": 297,
   "metadata": {},
   "outputs": [],
   "source": [
    "df_own_brand_5_s2 = pd.DataFrame(index = np.arange(price_range.size))\n",
    "df_own_brand_5_s2['Price_1'] = brand_choice_s2['Price_1'].mean()\n",
    "df_own_brand_5_s2['Price_2'] = brand_choice_s2['Price_2'].mean()\n",
    "df_own_brand_5_s2['Price_3'] = brand_choice_s2['Price_3'].mean()\n",
    "df_own_brand_5_s2['Price_4'] = brand_choice_s2['Price_4'].mean()\n",
    "df_own_brand_5_s2['Price_5'] = price_range\n",
    "\n",
    "predict_own_brand_5_s2 = model_brand_choice_s2.predict_proba(df_own_brand_5_s2)\n",
    "pr_own_brand_5_s2 = predict_own_brand_5_s2[: ][: , 4]\n",
    "\n",
    "own_price_elasticity_brand_5_s2 =  beta5 * price_range * (1 - pr_own_brand_5_s2)\n",
    "df_price_elasticities.insert(14, column = 'Brand 5 S2', value = own_price_elasticity_brand_5_s2)"
   ]
  },
  {
   "cell_type": "markdown",
   "metadata": {},
   "source": [
    "### $\\color{red}{\\text{Cross-Brand Price Elasticity}}$"
   ]
  },
  {
   "cell_type": "code",
   "execution_count": 298,
   "metadata": {},
   "outputs": [],
   "source": [
    "df_brand5_cross_brand4_s2 = pd.DataFrame(index = np.arange(price_range.size))\n",
    "df_brand5_cross_brand4_s2['Price_1'] = brand_choice_s2['Price_1'].mean()\n",
    "df_brand5_cross_brand4_s2['Price_2'] = brand_choice_s2['Price_2'].mean()\n",
    "df_brand5_cross_brand4_s2['Price_3'] = brand_choice_s2['Price_3'].mean()\n",
    "df_brand5_cross_brand4_s2['Price_4'] = price_range\n",
    "df_brand5_cross_brand4_s2['Price_5'] = brand_choice_s2['Price_5'].mean()\n",
    "\n",
    "predict_brand5_cross_brand4_s2 = model_brand_choice_s2.predict_proba(df_brand5_cross_brand4_s2)\n",
    "pr_cross_brand_5_s2 = predict_brand5_cross_brand4_s2[: ][: , 3]\n",
    "\n",
    "brand5_cross_brand4_price_elasticity_s2 = -beta5 * price_range * pr_cross_brand_5_s2\n",
    "df_price_elasticities.insert(15, column = 'Brand_5_Cross_Brand_4_S2', value = brand5_cross_brand4_price_elasticity_s2)\n",
    "#df_price_elasticities"
   ]
  },
  {
   "cell_type": "code",
   "execution_count": 299,
   "metadata": {},
   "outputs": [
    {
     "data": {
      "text/plain": [
       "Text(0.5, 0, 'Price 4')"
      ]
     },
     "execution_count": 299,
     "metadata": {},
     "output_type": "execute_result"
    },
    {
     "data": {
      "image/png": "[encoded data removed]",
      "text/plain": [
       "<Figure size 792x648 with 10 Axes>"
      ]
     },
     "metadata": {},
     "output_type": "display_data"
    }
   ],
   "source": [
    "fig1, (ax1, ax2, ax3, ax4, ax5) = plt.subplots(5, 2, figsize = (11, 9), sharex = True)\n",
    "ax1[0].plot(price_range, own_price_elasticity_brand_5, 'tab:grey')\n",
    "ax1[0].set_title('Brand 5 Average Customer')\n",
    "ax1[0].set_ylabel('Elasticity')\n",
    "ax1[1].plot(price_range, brand5_cross_brand4_price_elasticity, 'tab:grey')\n",
    "ax1[1].set_title('Cross Brand 4 Average Customer')\n",
    "\n",
    "\n",
    "ax2[0].plot(price_range, own_price_elasticity_brand_5_s0)\n",
    "ax2[0].set_title('Brand 5 Segment Standard')\n",
    "ax2[0].set_ylabel('Elasticity')\n",
    "ax2[1].plot(price_range, brand5_cross_brand4_price_elasticity_s0)\n",
    "ax2[1].set_title('Cross Brand 4 Segment Standard')\n",
    "\n",
    "ax3[0].plot(price_range, own_price_elasticity_brand_5_s1, 'tab:green')\n",
    "ax3[0].set_title('Brand 5 Segment Career-Focused')\n",
    "ax3[0].set_ylabel('Elasticity')\n",
    "ax3[1].plot(price_range, brand5_cross_brand4_price_elasticity_s1, 'tab:green')\n",
    "ax3[1].set_title('Cross Brand 4 Segment Career-Focused')\n",
    "\n",
    "ax4[0].plot(price_range, own_price_elasticity_brand_5_s2, 'tab:red')\n",
    "ax4[0].set_title('Brand 5 Segment Fewer-Opportunities')\n",
    "ax4[0].set_ylabel('Elasticity')\n",
    "ax4[1].plot(price_range, brand5_cross_brand4_price_elasticity_s2, 'tab:red')\n",
    "ax4[1].set_title('Cross Brand 4 Segment Fewer-Opportunities')\n",
    "\n",
    "ax5[0].plot(price_range, own_price_elasticity_brand_5_s3, 'tab:orange')\n",
    "ax5[0].set_title('Brand 5 Segment Well-off')\n",
    "ax5[0].set_xlabel('Price 5')\n",
    "ax5[0].set_ylabel('Elasticity')\n",
    "ax5[1].plot(price_range, brand5_cross_brand4_price_elasticity_s3, 'tab:orange')\n",
    "ax5[1].set_title('Cross Brand 4 Segment Well-off')\n",
    "ax5[1].set_xlabel('Price 4')"
   ]
  },
  {
   "cell_type": "markdown",
   "metadata": {},
   "source": [
    "This is an insightful display, of behavioral patterns of all segments. We can see which segment are most elastic for brand 5. With this we can tell how to approach each segment to increase purchase probability. \n",
    "\n",
    "Brand 5 has a price range of $2.1 - $2.8 [Example]\n",
    "For a Career Focused segment(green) this brand is inelastic, meaning we can increase the price and not worry about losing market share. This segment is also very loyal given the entire price range of brand 5 is inelastic.\n",
    "\n",
    "The primary focus on this section was to focus on brand 5 in all segments. This can be done for any brand. "
   ]
  },
  {
   "cell_type": "markdown",
   "metadata": {},
   "source": [
    "## Price Elasticity of Purchase Quantity"
   ]
  },
  {
   "cell_type": "code",
   "execution_count": 300,
   "metadata": {},
   "outputs": [
    {
     "data": {
      "text/html": [
       "<div>\n",
       "<style scoped>\n",
       "    .dataframe tbody tr th:only-of-type {\n",
       "        vertical-align: middle;\n",
       "    }\n",
       "\n",
       "    .dataframe tbody tr th {\n",
       "        vertical-align: top;\n",
       "    }\n",
       "\n",
       "    .dataframe thead th {\n",
       "        text-align: right;\n",
       "    }\n",
       "</style>\n",
       "<table border=\"1\" class=\"dataframe\">\n",
       "  <thead>\n",
       "    <tr style=\"text-align: right;\">\n",
       "      <th></th>\n",
       "      <th>ID</th>\n",
       "      <th>Day</th>\n",
       "      <th>Incidence</th>\n",
       "      <th>Brand</th>\n",
       "      <th>Quantity</th>\n",
       "      <th>Last_Inc_Brand</th>\n",
       "      <th>Last_Inc_Quantity</th>\n",
       "      <th>Price_1</th>\n",
       "      <th>Price_2</th>\n",
       "      <th>Price_3</th>\n",
       "      <th>...</th>\n",
       "      <th>Age</th>\n",
       "      <th>Education</th>\n",
       "      <th>Income</th>\n",
       "      <th>Occupation</th>\n",
       "      <th>Settlement size</th>\n",
       "      <th>Segment</th>\n",
       "      <th>Segment_0</th>\n",
       "      <th>Segment_1</th>\n",
       "      <th>Segment_2</th>\n",
       "      <th>Segment_3</th>\n",
       "    </tr>\n",
       "  </thead>\n",
       "  <tbody>\n",
       "    <tr>\n",
       "      <th>6</th>\n",
       "      <td>200000001</td>\n",
       "      <td>28</td>\n",
       "      <td>1</td>\n",
       "      <td>2</td>\n",
       "      <td>2</td>\n",
       "      <td>0</td>\n",
       "      <td>0</td>\n",
       "      <td>1.50</td>\n",
       "      <td>1.90</td>\n",
       "      <td>1.99</td>\n",
       "      <td>...</td>\n",
       "      <td>47</td>\n",
       "      <td>1</td>\n",
       "      <td>110866</td>\n",
       "      <td>1</td>\n",
       "      <td>0</td>\n",
       "      <td>2</td>\n",
       "      <td>0</td>\n",
       "      <td>0</td>\n",
       "      <td>1</td>\n",
       "      <td>0</td>\n",
       "    </tr>\n",
       "    <tr>\n",
       "      <th>11</th>\n",
       "      <td>200000001</td>\n",
       "      <td>58</td>\n",
       "      <td>1</td>\n",
       "      <td>5</td>\n",
       "      <td>1</td>\n",
       "      <td>0</td>\n",
       "      <td>0</td>\n",
       "      <td>1.39</td>\n",
       "      <td>1.90</td>\n",
       "      <td>1.91</td>\n",
       "      <td>...</td>\n",
       "      <td>47</td>\n",
       "      <td>1</td>\n",
       "      <td>110866</td>\n",
       "      <td>1</td>\n",
       "      <td>0</td>\n",
       "      <td>2</td>\n",
       "      <td>0</td>\n",
       "      <td>0</td>\n",
       "      <td>1</td>\n",
       "      <td>0</td>\n",
       "    </tr>\n",
       "    <tr>\n",
       "      <th>19</th>\n",
       "      <td>200000001</td>\n",
       "      <td>110</td>\n",
       "      <td>1</td>\n",
       "      <td>1</td>\n",
       "      <td>2</td>\n",
       "      <td>0</td>\n",
       "      <td>0</td>\n",
       "      <td>1.47</td>\n",
       "      <td>1.90</td>\n",
       "      <td>1.99</td>\n",
       "      <td>...</td>\n",
       "      <td>47</td>\n",
       "      <td>1</td>\n",
       "      <td>110866</td>\n",
       "      <td>1</td>\n",
       "      <td>0</td>\n",
       "      <td>2</td>\n",
       "      <td>0</td>\n",
       "      <td>0</td>\n",
       "      <td>1</td>\n",
       "      <td>0</td>\n",
       "    </tr>\n",
       "    <tr>\n",
       "      <th>24</th>\n",
       "      <td>200000001</td>\n",
       "      <td>142</td>\n",
       "      <td>1</td>\n",
       "      <td>4</td>\n",
       "      <td>1</td>\n",
       "      <td>0</td>\n",
       "      <td>0</td>\n",
       "      <td>1.21</td>\n",
       "      <td>1.35</td>\n",
       "      <td>1.99</td>\n",
       "      <td>...</td>\n",
       "      <td>47</td>\n",
       "      <td>1</td>\n",
       "      <td>110866</td>\n",
       "      <td>1</td>\n",
       "      <td>0</td>\n",
       "      <td>2</td>\n",
       "      <td>0</td>\n",
       "      <td>0</td>\n",
       "      <td>1</td>\n",
       "      <td>0</td>\n",
       "    </tr>\n",
       "    <tr>\n",
       "      <th>29</th>\n",
       "      <td>200000001</td>\n",
       "      <td>183</td>\n",
       "      <td>1</td>\n",
       "      <td>2</td>\n",
       "      <td>3</td>\n",
       "      <td>0</td>\n",
       "      <td>0</td>\n",
       "      <td>1.46</td>\n",
       "      <td>1.88</td>\n",
       "      <td>1.97</td>\n",
       "      <td>...</td>\n",
       "      <td>47</td>\n",
       "      <td>1</td>\n",
       "      <td>110866</td>\n",
       "      <td>1</td>\n",
       "      <td>0</td>\n",
       "      <td>2</td>\n",
       "      <td>0</td>\n",
       "      <td>0</td>\n",
       "      <td>1</td>\n",
       "      <td>0</td>\n",
       "    </tr>\n",
       "  </tbody>\n",
       "</table>\n",
       "<p>5 rows × 29 columns</p>\n",
       "</div>"
      ],
      "text/plain": [
       "           ID  Day  Incidence  Brand  Quantity  Last_Inc_Brand  \\\n",
       "6   200000001   28          1      2         2               0   \n",
       "11  200000001   58          1      5         1               0   \n",
       "19  200000001  110          1      1         2               0   \n",
       "24  200000001  142          1      4         1               0   \n",
       "29  200000001  183          1      2         3               0   \n",
       "\n",
       "    Last_Inc_Quantity  Price_1  Price_2  Price_3  ...  Age  Education  Income  \\\n",
       "6                   0     1.50     1.90     1.99  ...   47          1  110866   \n",
       "11                  0     1.39     1.90     1.91  ...   47          1  110866   \n",
       "19                  0     1.47     1.90     1.99  ...   47          1  110866   \n",
       "24                  0     1.21     1.35     1.99  ...   47          1  110866   \n",
       "29                  0     1.46     1.88     1.97  ...   47          1  110866   \n",
       "\n",
       "    Occupation  Settlement size  Segment  Segment_0  Segment_1  Segment_2  \\\n",
       "6            1                0        2          0          0          1   \n",
       "11           1                0        2          0          0          1   \n",
       "19           1                0        2          0          0          1   \n",
       "24           1                0        2          0          0          1   \n",
       "29           1                0        2          0          0          1   \n",
       "\n",
       "    Segment_3  \n",
       "6           0  \n",
       "11          0  \n",
       "19          0  \n",
       "24          0  \n",
       "29          0  \n",
       "\n",
       "[5 rows x 29 columns]"
      ]
     },
     "execution_count": 300,
     "metadata": {},
     "output_type": "execute_result"
    }
   ],
   "source": [
    "df_purchase_quantity = df_pa[df_pa['Incidence'] == 1]\n",
    "df_purchase_quantity.head()"
   ]
  },
  {
   "cell_type": "code",
   "execution_count": 301,
   "metadata": {},
   "outputs": [
    {
     "data": {
      "text/html": [
       "<div>\n",
       "<style scoped>\n",
       "    .dataframe tbody tr th:only-of-type {\n",
       "        vertical-align: middle;\n",
       "    }\n",
       "\n",
       "    .dataframe tbody tr th {\n",
       "        vertical-align: top;\n",
       "    }\n",
       "\n",
       "    .dataframe thead th {\n",
       "        text-align: right;\n",
       "    }\n",
       "</style>\n",
       "<table border=\"1\" class=\"dataframe\">\n",
       "  <thead>\n",
       "    <tr style=\"text-align: right;\">\n",
       "      <th></th>\n",
       "      <th>ID</th>\n",
       "      <th>Day</th>\n",
       "      <th>Incidence</th>\n",
       "      <th>Quantity</th>\n",
       "      <th>Last_Inc_Brand</th>\n",
       "      <th>Last_Inc_Quantity</th>\n",
       "      <th>Price_1</th>\n",
       "      <th>Price_2</th>\n",
       "      <th>Price_3</th>\n",
       "      <th>Price_4</th>\n",
       "      <th>...</th>\n",
       "      <th>Segment</th>\n",
       "      <th>Segment_0</th>\n",
       "      <th>Segment_1</th>\n",
       "      <th>Segment_2</th>\n",
       "      <th>Segment_3</th>\n",
       "      <th>Brand_1</th>\n",
       "      <th>Brand_2</th>\n",
       "      <th>Brand_3</th>\n",
       "      <th>Brand_4</th>\n",
       "      <th>Brand_5</th>\n",
       "    </tr>\n",
       "  </thead>\n",
       "  <tbody>\n",
       "    <tr>\n",
       "      <th>count</th>\n",
       "      <td>1.463800e+04</td>\n",
       "      <td>14638.000000</td>\n",
       "      <td>14638.0</td>\n",
       "      <td>14638.000000</td>\n",
       "      <td>14638.000000</td>\n",
       "      <td>14638.000000</td>\n",
       "      <td>14638.000000</td>\n",
       "      <td>14638.000000</td>\n",
       "      <td>14638.000000</td>\n",
       "      <td>14638.000000</td>\n",
       "      <td>...</td>\n",
       "      <td>14638.000000</td>\n",
       "      <td>14638.000000</td>\n",
       "      <td>14638.000000</td>\n",
       "      <td>14638.000000</td>\n",
       "      <td>14638.000000</td>\n",
       "      <td>14638.000000</td>\n",
       "      <td>14638.000000</td>\n",
       "      <td>14638.000000</td>\n",
       "      <td>14638.000000</td>\n",
       "      <td>14638.000000</td>\n",
       "    </tr>\n",
       "    <tr>\n",
       "      <th>mean</th>\n",
       "      <td>2.000003e+08</td>\n",
       "      <td>359.607597</td>\n",
       "      <td>1.0</td>\n",
       "      <td>2.774559</td>\n",
       "      <td>1.535251</td>\n",
       "      <td>0.406955</td>\n",
       "      <td>1.384559</td>\n",
       "      <td>1.764717</td>\n",
       "      <td>2.006694</td>\n",
       "      <td>2.159658</td>\n",
       "      <td>...</td>\n",
       "      <td>1.581910</td>\n",
       "      <td>0.175229</td>\n",
       "      <td>0.299290</td>\n",
       "      <td>0.293824</td>\n",
       "      <td>0.231657</td>\n",
       "      <td>0.092226</td>\n",
       "      <td>0.310288</td>\n",
       "      <td>0.057453</td>\n",
       "      <td>0.199959</td>\n",
       "      <td>0.340074</td>\n",
       "    </tr>\n",
       "    <tr>\n",
       "      <th>std</th>\n",
       "      <td>1.423786e+02</td>\n",
       "      <td>205.346253</td>\n",
       "      <td>0.0</td>\n",
       "      <td>1.796736</td>\n",
       "      <td>2.060858</td>\n",
       "      <td>0.491283</td>\n",
       "      <td>0.090944</td>\n",
       "      <td>0.181667</td>\n",
       "      <td>0.046200</td>\n",
       "      <td>0.093253</td>\n",
       "      <td>...</td>\n",
       "      <td>1.028171</td>\n",
       "      <td>0.380176</td>\n",
       "      <td>0.457962</td>\n",
       "      <td>0.455528</td>\n",
       "      <td>0.421906</td>\n",
       "      <td>0.289354</td>\n",
       "      <td>0.462627</td>\n",
       "      <td>0.232714</td>\n",
       "      <td>0.399983</td>\n",
       "      <td>0.473750</td>\n",
       "    </tr>\n",
       "    <tr>\n",
       "      <th>min</th>\n",
       "      <td>2.000000e+08</td>\n",
       "      <td>1.000000</td>\n",
       "      <td>1.0</td>\n",
       "      <td>1.000000</td>\n",
       "      <td>0.000000</td>\n",
       "      <td>0.000000</td>\n",
       "      <td>1.100000</td>\n",
       "      <td>1.260000</td>\n",
       "      <td>1.870000</td>\n",
       "      <td>1.760000</td>\n",
       "      <td>...</td>\n",
       "      <td>0.000000</td>\n",
       "      <td>0.000000</td>\n",
       "      <td>0.000000</td>\n",
       "      <td>0.000000</td>\n",
       "      <td>0.000000</td>\n",
       "      <td>0.000000</td>\n",
       "      <td>0.000000</td>\n",
       "      <td>0.000000</td>\n",
       "      <td>0.000000</td>\n",
       "      <td>0.000000</td>\n",
       "    </tr>\n",
       "    <tr>\n",
       "      <th>25%</th>\n",
       "      <td>2.000001e+08</td>\n",
       "      <td>175.000000</td>\n",
       "      <td>1.0</td>\n",
       "      <td>2.000000</td>\n",
       "      <td>0.000000</td>\n",
       "      <td>0.000000</td>\n",
       "      <td>1.340000</td>\n",
       "      <td>1.570000</td>\n",
       "      <td>1.970000</td>\n",
       "      <td>2.120000</td>\n",
       "      <td>...</td>\n",
       "      <td>1.000000</td>\n",
       "      <td>0.000000</td>\n",
       "      <td>0.000000</td>\n",
       "      <td>0.000000</td>\n",
       "      <td>0.000000</td>\n",
       "      <td>0.000000</td>\n",
       "      <td>0.000000</td>\n",
       "      <td>0.000000</td>\n",
       "      <td>0.000000</td>\n",
       "      <td>0.000000</td>\n",
       "    </tr>\n",
       "    <tr>\n",
       "      <th>50%</th>\n",
       "      <td>2.000003e+08</td>\n",
       "      <td>355.000000</td>\n",
       "      <td>1.0</td>\n",
       "      <td>2.000000</td>\n",
       "      <td>0.000000</td>\n",
       "      <td>0.000000</td>\n",
       "      <td>1.390000</td>\n",
       "      <td>1.880000</td>\n",
       "      <td>2.010000</td>\n",
       "      <td>2.180000</td>\n",
       "      <td>...</td>\n",
       "      <td>2.000000</td>\n",
       "      <td>0.000000</td>\n",
       "      <td>0.000000</td>\n",
       "      <td>0.000000</td>\n",
       "      <td>0.000000</td>\n",
       "      <td>0.000000</td>\n",
       "      <td>0.000000</td>\n",
       "      <td>0.000000</td>\n",
       "      <td>0.000000</td>\n",
       "      <td>0.000000</td>\n",
       "    </tr>\n",
       "    <tr>\n",
       "      <th>75%</th>\n",
       "      <td>2.000004e+08</td>\n",
       "      <td>532.000000</td>\n",
       "      <td>1.0</td>\n",
       "      <td>3.000000</td>\n",
       "      <td>4.000000</td>\n",
       "      <td>1.000000</td>\n",
       "      <td>1.470000</td>\n",
       "      <td>1.890000</td>\n",
       "      <td>2.060000</td>\n",
       "      <td>2.240000</td>\n",
       "      <td>...</td>\n",
       "      <td>2.000000</td>\n",
       "      <td>0.000000</td>\n",
       "      <td>1.000000</td>\n",
       "      <td>1.000000</td>\n",
       "      <td>0.000000</td>\n",
       "      <td>0.000000</td>\n",
       "      <td>1.000000</td>\n",
       "      <td>0.000000</td>\n",
       "      <td>0.000000</td>\n",
       "      <td>1.000000</td>\n",
       "    </tr>\n",
       "    <tr>\n",
       "      <th>max</th>\n",
       "      <td>2.000005e+08</td>\n",
       "      <td>727.000000</td>\n",
       "      <td>1.0</td>\n",
       "      <td>15.000000</td>\n",
       "      <td>5.000000</td>\n",
       "      <td>1.000000</td>\n",
       "      <td>1.590000</td>\n",
       "      <td>1.900000</td>\n",
       "      <td>2.140000</td>\n",
       "      <td>2.260000</td>\n",
       "      <td>...</td>\n",
       "      <td>3.000000</td>\n",
       "      <td>1.000000</td>\n",
       "      <td>1.000000</td>\n",
       "      <td>1.000000</td>\n",
       "      <td>1.000000</td>\n",
       "      <td>1.000000</td>\n",
       "      <td>1.000000</td>\n",
       "      <td>1.000000</td>\n",
       "      <td>1.000000</td>\n",
       "      <td>1.000000</td>\n",
       "    </tr>\n",
       "  </tbody>\n",
       "</table>\n",
       "<p>8 rows × 33 columns</p>\n",
       "</div>"
      ],
      "text/plain": [
       "                 ID           Day  Incidence      Quantity  Last_Inc_Brand  \\\n",
       "count  1.463800e+04  14638.000000    14638.0  14638.000000    14638.000000   \n",
       "mean   2.000003e+08    359.607597        1.0      2.774559        1.535251   \n",
       "std    1.423786e+02    205.346253        0.0      1.796736        2.060858   \n",
       "min    2.000000e+08      1.000000        1.0      1.000000        0.000000   \n",
       "25%    2.000001e+08    175.000000        1.0      2.000000        0.000000   \n",
       "50%    2.000003e+08    355.000000        1.0      2.000000        0.000000   \n",
       "75%    2.000004e+08    532.000000        1.0      3.000000        4.000000   \n",
       "max    2.000005e+08    727.000000        1.0     15.000000        5.000000   \n",
       "\n",
       "       Last_Inc_Quantity       Price_1       Price_2       Price_3  \\\n",
       "count       14638.000000  14638.000000  14638.000000  14638.000000   \n",
       "mean            0.406955      1.384559      1.764717      2.006694   \n",
       "std             0.491283      0.090944      0.181667      0.046200   \n",
       "min             0.000000      1.100000      1.260000      1.870000   \n",
       "25%             0.000000      1.340000      1.570000      1.970000   \n",
       "50%             0.000000      1.390000      1.880000      2.010000   \n",
       "75%             1.000000      1.470000      1.890000      2.060000   \n",
       "max             1.000000      1.590000      1.900000      2.140000   \n",
       "\n",
       "            Price_4  ...       Segment     Segment_0     Segment_1  \\\n",
       "count  14638.000000  ...  14638.000000  14638.000000  14638.000000   \n",
       "mean       2.159658  ...      1.581910      0.175229      0.299290   \n",
       "std        0.093253  ...      1.028171      0.380176      0.457962   \n",
       "min        1.760000  ...      0.000000      0.000000      0.000000   \n",
       "25%        2.120000  ...      1.000000      0.000000      0.000000   \n",
       "50%        2.180000  ...      2.000000      0.000000      0.000000   \n",
       "75%        2.240000  ...      2.000000      0.000000      1.000000   \n",
       "max        2.260000  ...      3.000000      1.000000      1.000000   \n",
       "\n",
       "          Segment_2     Segment_3       Brand_1       Brand_2       Brand_3  \\\n",
       "count  14638.000000  14638.000000  14638.000000  14638.000000  14638.000000   \n",
       "mean       0.293824      0.231657      0.092226      0.310288      0.057453   \n",
       "std        0.455528      0.421906      0.289354      0.462627      0.232714   \n",
       "min        0.000000      0.000000      0.000000      0.000000      0.000000   \n",
       "25%        0.000000      0.000000      0.000000      0.000000      0.000000   \n",
       "50%        0.000000      0.000000      0.000000      0.000000      0.000000   \n",
       "75%        1.000000      0.000000      0.000000      1.000000      0.000000   \n",
       "max        1.000000      1.000000      1.000000      1.000000      1.000000   \n",
       "\n",
       "            Brand_4       Brand_5  \n",
       "count  14638.000000  14638.000000  \n",
       "mean       0.199959      0.340074  \n",
       "std        0.399983      0.473750  \n",
       "min        0.000000      0.000000  \n",
       "25%        0.000000      0.000000  \n",
       "50%        0.000000      0.000000  \n",
       "75%        0.000000      1.000000  \n",
       "max        1.000000      1.000000  \n",
       "\n",
       "[8 rows x 33 columns]"
      ]
     },
     "execution_count": 301,
     "metadata": {},
     "output_type": "execute_result"
    }
   ],
   "source": [
    "df_purchase_quantity = pd.get_dummies(df_purchase_quantity, columns = ['Brand'], prefix = 'Brand', prefix_sep = '_')\n",
    "df_purchase_quantity.describe()"
   ]
  },
  {
   "cell_type": "code",
   "execution_count": 302,
   "metadata": {},
   "outputs": [
    {
     "data": {
      "text/plain": [
       "array(['ID', 'Day', 'Incidence', 'Quantity', 'Last_Inc_Brand',\n",
       "       'Last_Inc_Quantity', 'Price_1', 'Price_2', 'Price_3', 'Price_4',\n",
       "       'Price_5', 'Promotion_1', 'Promotion_2', 'Promotion_3',\n",
       "       'Promotion_4', 'Promotion_5', 'Sex', 'Marital status', 'Age',\n",
       "       'Education', 'Income', 'Occupation', 'Settlement size', 'Segment',\n",
       "       'Segment_0', 'Segment_1', 'Segment_2', 'Segment_3', 'Brand_1',\n",
       "       'Brand_2', 'Brand_3', 'Brand_4', 'Brand_5'], dtype=object)"
      ]
     },
     "execution_count": 302,
     "metadata": {},
     "output_type": "execute_result"
    }
   ],
   "source": [
    "df_purchase_quantity.columns.values"
   ]
  },
  {
   "cell_type": "code",
   "execution_count": 303,
   "metadata": {},
   "outputs": [],
   "source": [
    "df_purchase_quantity['Price_Incidence'] = (df_purchase_quantity['Brand_1'] * df_purchase_quantity['Price_1'] +\n",
    "                                           df_purchase_quantity['Brand_2'] * df_purchase_quantity['Price_2'] +\n",
    "                                           df_purchase_quantity['Brand_3'] * df_purchase_quantity['Price_3'] +\n",
    "                                           df_purchase_quantity['Brand_4'] * df_purchase_quantity['Price_4'] +\n",
    "                                           df_purchase_quantity['Brand_5'] * df_purchase_quantity['Price_5'] )"
   ]
  },
  {
   "cell_type": "code",
   "execution_count": 304,
   "metadata": {},
   "outputs": [],
   "source": [
    "df_purchase_quantity['Promotion_Incidence'] = (df_purchase_quantity['Brand_1'] * df_purchase_quantity['Promotion_1'] +\n",
    "                                               df_purchase_quantity['Brand_2'] * df_purchase_quantity['Promotion_2'] +\n",
    "                                               df_purchase_quantity['Brand_3'] * df_purchase_quantity['Promotion_3'] +\n",
    "                                               df_purchase_quantity['Brand_4'] * df_purchase_quantity['Promotion_4'] +\n",
    "                                               df_purchase_quantity['Brand_5'] * df_purchase_quantity['Promotion_5'] )"
   ]
  },
  {
   "cell_type": "markdown",
   "metadata": {},
   "source": [
    "## Model Estimation. Linear Regression"
   ]
  },
  {
   "cell_type": "code",
   "execution_count": 305,
   "metadata": {
    "scrolled": false
   },
   "outputs": [
    {
     "data": {
      "text/html": [
       "<div>\n",
       "<style scoped>\n",
       "    .dataframe tbody tr th:only-of-type {\n",
       "        vertical-align: middle;\n",
       "    }\n",
       "\n",
       "    .dataframe tbody tr th {\n",
       "        vertical-align: top;\n",
       "    }\n",
       "\n",
       "    .dataframe thead th {\n",
       "        text-align: right;\n",
       "    }\n",
       "</style>\n",
       "<table border=\"1\" class=\"dataframe\">\n",
       "  <thead>\n",
       "    <tr style=\"text-align: right;\">\n",
       "      <th></th>\n",
       "      <th>Price_Incidence</th>\n",
       "      <th>Promotion_Incidence</th>\n",
       "    </tr>\n",
       "  </thead>\n",
       "  <tbody>\n",
       "    <tr>\n",
       "      <th>6</th>\n",
       "      <td>1.90</td>\n",
       "      <td>0</td>\n",
       "    </tr>\n",
       "    <tr>\n",
       "      <th>11</th>\n",
       "      <td>2.62</td>\n",
       "      <td>1</td>\n",
       "    </tr>\n",
       "    <tr>\n",
       "      <th>19</th>\n",
       "      <td>1.47</td>\n",
       "      <td>0</td>\n",
       "    </tr>\n",
       "    <tr>\n",
       "      <th>24</th>\n",
       "      <td>2.16</td>\n",
       "      <td>0</td>\n",
       "    </tr>\n",
       "    <tr>\n",
       "      <th>29</th>\n",
       "      <td>1.88</td>\n",
       "      <td>0</td>\n",
       "    </tr>\n",
       "    <tr>\n",
       "      <th>...</th>\n",
       "      <td>...</td>\n",
       "      <td>...</td>\n",
       "    </tr>\n",
       "    <tr>\n",
       "      <th>58621</th>\n",
       "      <td>1.89</td>\n",
       "      <td>0</td>\n",
       "    </tr>\n",
       "    <tr>\n",
       "      <th>58648</th>\n",
       "      <td>1.35</td>\n",
       "      <td>1</td>\n",
       "    </tr>\n",
       "    <tr>\n",
       "      <th>58674</th>\n",
       "      <td>1.85</td>\n",
       "      <td>1</td>\n",
       "    </tr>\n",
       "    <tr>\n",
       "      <th>58687</th>\n",
       "      <td>1.51</td>\n",
       "      <td>0</td>\n",
       "    </tr>\n",
       "    <tr>\n",
       "      <th>58691</th>\n",
       "      <td>1.82</td>\n",
       "      <td>0</td>\n",
       "    </tr>\n",
       "  </tbody>\n",
       "</table>\n",
       "<p>14638 rows × 2 columns</p>\n",
       "</div>"
      ],
      "text/plain": [
       "       Price_Incidence  Promotion_Incidence\n",
       "6                 1.90                    0\n",
       "11                2.62                    1\n",
       "19                1.47                    0\n",
       "24                2.16                    0\n",
       "29                1.88                    0\n",
       "...                ...                  ...\n",
       "58621             1.89                    0\n",
       "58648             1.35                    1\n",
       "58674             1.85                    1\n",
       "58687             1.51                    0\n",
       "58691             1.82                    0\n",
       "\n",
       "[14638 rows x 2 columns]"
      ]
     },
     "execution_count": 305,
     "metadata": {},
     "output_type": "execute_result"
    }
   ],
   "source": [
    "X = df_purchase_quantity[['Price_Incidence', 'Promotion_Incidence']]\n",
    "pd.options.display.max_rows = 100\n",
    "X"
   ]
  },
  {
   "cell_type": "code",
   "execution_count": 306,
   "metadata": {},
   "outputs": [
    {
     "data": {
      "text/plain": [
       "6     2\n",
       "11    1\n",
       "19    2\n",
       "24    1\n",
       "29    3\n",
       "Name: Quantity, dtype: int64"
      ]
     },
     "execution_count": 306,
     "metadata": {},
     "output_type": "execute_result"
    }
   ],
   "source": [
    "Y = df_purchase_quantity['Quantity']\n",
    "Y.head()"
   ]
  },
  {
   "cell_type": "code",
   "execution_count": 307,
   "metadata": {},
   "outputs": [
    {
     "data": {
      "text/plain": [
       "LinearRegression(copy_X=True, fit_intercept=True, n_jobs=None,\n",
       "         normalize=False)"
      ]
     },
     "execution_count": 307,
     "metadata": {},
     "output_type": "execute_result"
    }
   ],
   "source": [
    "model_quantity = LinearRegression()\n",
    "model_quantity.fit(X, Y)"
   ]
  },
  {
   "cell_type": "code",
   "execution_count": 308,
   "metadata": {},
   "outputs": [
    {
     "data": {
      "text/plain": [
       "array([-0.8173651 , -0.10504673])"
      ]
     },
     "execution_count": 308,
     "metadata": {},
     "output_type": "execute_result"
    }
   ],
   "source": [
    "model_quantity.coef_"
   ]
  },
  {
   "cell_type": "markdown",
   "metadata": {},
   "source": [
    "## Price Elasticity Estimation"
   ]
  },
  {
   "cell_type": "code",
   "execution_count": 309,
   "metadata": {},
   "outputs": [],
   "source": [
    "df_price_elasticity_quantity = pd.DataFrame(index = np.arange(price_range.size))\n",
    "df_price_elasticity_quantity['Price_Incidence'] = price_range\n",
    "df_price_elasticity_quantity['Promotion_Incidence'] = 1"
   ]
  },
  {
   "cell_type": "code",
   "execution_count": 310,
   "metadata": {},
   "outputs": [
    {
     "data": {
      "text/plain": [
       "-0.8173651016684959"
      ]
     },
     "execution_count": 310,
     "metadata": {},
     "output_type": "execute_result"
    }
   ],
   "source": [
    "beta_quantity = model_quantity.coef_[0]\n",
    "beta_quantity"
   ]
  },
  {
   "cell_type": "code",
   "execution_count": 311,
   "metadata": {},
   "outputs": [],
   "source": [
    "predict_quantity = model_quantity.predict(df_price_elasticity_quantity)"
   ]
  },
  {
   "cell_type": "code",
   "execution_count": 312,
   "metadata": {},
   "outputs": [],
   "source": [
    "price_elasticity_quantity_promotion_yes = beta_quantity * price_range / predict_quantity"
   ]
  },
  {
   "cell_type": "code",
   "execution_count": 313,
   "metadata": {},
   "outputs": [
    {
     "data": {
      "text/html": [
       "<div>\n",
       "<style scoped>\n",
       "    .dataframe tbody tr th:only-of-type {\n",
       "        vertical-align: middle;\n",
       "    }\n",
       "\n",
       "    .dataframe tbody tr th {\n",
       "        vertical-align: top;\n",
       "    }\n",
       "\n",
       "    .dataframe thead th {\n",
       "        text-align: right;\n",
       "    }\n",
       "</style>\n",
       "<table border=\"1\" class=\"dataframe\">\n",
       "  <thead>\n",
       "    <tr style=\"text-align: right;\">\n",
       "      <th></th>\n",
       "      <th>Price_Point</th>\n",
       "      <th>Mean_PE</th>\n",
       "      <th>PE_Segment_0</th>\n",
       "      <th>PE_Segment_1</th>\n",
       "      <th>PE_Segment_2</th>\n",
       "      <th>PE_Segment_3</th>\n",
       "      <th>Elasticity_Promotion_1</th>\n",
       "      <th>Elasticity_Promotion_0</th>\n",
       "      <th>Brand_5</th>\n",
       "      <th>Brand_5_Cross_Brand_4</th>\n",
       "      <th>Brand 5 S0</th>\n",
       "      <th>Brand_5_Cross_Brand_4_S0</th>\n",
       "      <th>Brand 5 S1</th>\n",
       "      <th>Brand_5_Cross_Brand_4_S1</th>\n",
       "      <th>Brand 5 S2</th>\n",
       "      <th>Brand_5_Cross_Brand_4_S2</th>\n",
       "      <th>Brand 5 S3</th>\n",
       "      <th>Brand_5_Cross_Brand_4_S3</th>\n",
       "      <th>PE_Quantity_Promotion_1</th>\n",
       "    </tr>\n",
       "  </thead>\n",
       "  <tbody>\n",
       "    <tr>\n",
       "      <th>0</th>\n",
       "      <td>0.50</td>\n",
       "      <td>-0.096405</td>\n",
       "      <td>-0.211130</td>\n",
       "      <td>-0.119188</td>\n",
       "      <td>-0.030911</td>\n",
       "      <td>-0.168036</td>\n",
       "      <td>-0.125760</td>\n",
       "      <td>-0.195682</td>\n",
       "      <td>-0.049056</td>\n",
       "      <td>0.332012</td>\n",
       "      <td>-0.115844</td>\n",
       "      <td>0.174138</td>\n",
       "      <td>-0.043942</td>\n",
       "      <td>0.194762</td>\n",
       "      <td>-0.001036</td>\n",
       "      <td>0.181589</td>\n",
       "      <td>-0.297310</td>\n",
       "      <td>0.482421</td>\n",
       "      <td>-0.102157</td>\n",
       "    </tr>\n",
       "    <tr>\n",
       "      <th>1</th>\n",
       "      <td>0.51</td>\n",
       "      <td>-0.100473</td>\n",
       "      <td>-0.217699</td>\n",
       "      <td>-0.123376</td>\n",
       "      <td>-0.032677</td>\n",
       "      <td>-0.172960</td>\n",
       "      <td>-0.129877</td>\n",
       "      <td>-0.201804</td>\n",
       "      <td>-0.050617</td>\n",
       "      <td>0.337288</td>\n",
       "      <td>-0.118884</td>\n",
       "      <td>0.176194</td>\n",
       "      <td>-0.045028</td>\n",
       "      <td>0.197246</td>\n",
       "      <td>-0.001098</td>\n",
       "      <td>0.183886</td>\n",
       "      <td>-0.303356</td>\n",
       "      <td>0.491726</td>\n",
       "      <td>-0.104413</td>\n",
       "    </tr>\n",
       "    <tr>\n",
       "      <th>2</th>\n",
       "      <td>0.52</td>\n",
       "      <td>-0.104668</td>\n",
       "      <td>-0.224375</td>\n",
       "      <td>-0.127657</td>\n",
       "      <td>-0.034531</td>\n",
       "      <td>-0.177954</td>\n",
       "      <td>-0.134073</td>\n",
       "      <td>-0.208029</td>\n",
       "      <td>-0.052207</td>\n",
       "      <td>0.342507</td>\n",
       "      <td>-0.121958</td>\n",
       "      <td>0.178198</td>\n",
       "      <td>-0.046124</td>\n",
       "      <td>0.199679</td>\n",
       "      <td>-0.001163</td>\n",
       "      <td>0.186134</td>\n",
       "      <td>-0.309413</td>\n",
       "      <td>0.501016</td>\n",
       "      <td>-0.106679</td>\n",
       "    </tr>\n",
       "    <tr>\n",
       "      <th>3</th>\n",
       "      <td>0.53</td>\n",
       "      <td>-0.108993</td>\n",
       "      <td>-0.231161</td>\n",
       "      <td>-0.132033</td>\n",
       "      <td>-0.036475</td>\n",
       "      <td>-0.183019</td>\n",
       "      <td>-0.138349</td>\n",
       "      <td>-0.214357</td>\n",
       "      <td>-0.053827</td>\n",
       "      <td>0.347669</td>\n",
       "      <td>-0.125067</td>\n",
       "      <td>0.180152</td>\n",
       "      <td>-0.047230</td>\n",
       "      <td>0.202061</td>\n",
       "      <td>-0.001231</td>\n",
       "      <td>0.188333</td>\n",
       "      <td>-0.315480</td>\n",
       "      <td>0.510290</td>\n",
       "      <td>-0.108954</td>\n",
       "    </tr>\n",
       "    <tr>\n",
       "      <th>4</th>\n",
       "      <td>0.54</td>\n",
       "      <td>-0.113452</td>\n",
       "      <td>-0.238055</td>\n",
       "      <td>-0.136506</td>\n",
       "      <td>-0.038514</td>\n",
       "      <td>-0.188156</td>\n",
       "      <td>-0.142706</td>\n",
       "      <td>-0.220790</td>\n",
       "      <td>-0.055478</td>\n",
       "      <td>0.352773</td>\n",
       "      <td>-0.128212</td>\n",
       "      <td>0.182056</td>\n",
       "      <td>-0.048345</td>\n",
       "      <td>0.204393</td>\n",
       "      <td>-0.001303</td>\n",
       "      <td>0.190484</td>\n",
       "      <td>-0.321558</td>\n",
       "      <td>0.519548</td>\n",
       "      <td>-0.111238</td>\n",
       "    </tr>\n",
       "    <tr>\n",
       "      <th>...</th>\n",
       "      <td>...</td>\n",
       "      <td>...</td>\n",
       "      <td>...</td>\n",
       "      <td>...</td>\n",
       "      <td>...</td>\n",
       "      <td>...</td>\n",
       "      <td>...</td>\n",
       "      <td>...</td>\n",
       "      <td>...</td>\n",
       "      <td>...</td>\n",
       "      <td>...</td>\n",
       "      <td>...</td>\n",
       "      <td>...</td>\n",
       "      <td>...</td>\n",
       "      <td>...</td>\n",
       "      <td>...</td>\n",
       "      <td>...</td>\n",
       "      <td>...</td>\n",
       "      <td>...</td>\n",
       "    </tr>\n",
       "    <tr>\n",
       "      <th>295</th>\n",
       "      <td>3.45</td>\n",
       "      <td>-8.012353</td>\n",
       "      <td>-5.051646</td>\n",
       "      <td>-5.685795</td>\n",
       "      <td>-12.542962</td>\n",
       "      <td>-4.021059</td>\n",
       "      <td>-4.861963</td>\n",
       "      <td>-4.983535</td>\n",
       "      <td>-3.231573</td>\n",
       "      <td>0.162233</td>\n",
       "      <td>-3.592456</td>\n",
       "      <td>0.024051</td>\n",
       "      <td>-1.287423</td>\n",
       "      <td>0.068596</td>\n",
       "      <td>-3.746081</td>\n",
       "      <td>0.023409</td>\n",
       "      <td>-3.337311</td>\n",
       "      <td>0.157470</td>\n",
       "      <td>-1.774292</td>\n",
       "    </tr>\n",
       "    <tr>\n",
       "      <th>296</th>\n",
       "      <td>3.46</td>\n",
       "      <td>-8.037601</td>\n",
       "      <td>-5.068502</td>\n",
       "      <td>-5.705959</td>\n",
       "      <td>-12.579882</td>\n",
       "      <td>-4.035923</td>\n",
       "      <td>-4.880165</td>\n",
       "      <td>-5.000441</td>\n",
       "      <td>-3.247767</td>\n",
       "      <td>0.160332</td>\n",
       "      <td>-3.606361</td>\n",
       "      <td>0.023694</td>\n",
       "      <td>-1.297232</td>\n",
       "      <td>0.067973</td>\n",
       "      <td>-3.757523</td>\n",
       "      <td>0.022949</td>\n",
       "      <td>-3.350641</td>\n",
       "      <td>0.152049</td>\n",
       "      <td>-1.788634</td>\n",
       "    </tr>\n",
       "    <tr>\n",
       "      <th>297</th>\n",
       "      <td>3.47</td>\n",
       "      <td>-8.062815</td>\n",
       "      <td>-5.085340</td>\n",
       "      <td>-5.726086</td>\n",
       "      <td>-12.616786</td>\n",
       "      <td>-4.050771</td>\n",
       "      <td>-4.898336</td>\n",
       "      <td>-5.017328</td>\n",
       "      <td>-3.263929</td>\n",
       "      <td>0.158447</td>\n",
       "      <td>-3.620221</td>\n",
       "      <td>0.023342</td>\n",
       "      <td>-1.307097</td>\n",
       "      <td>0.067355</td>\n",
       "      <td>-3.768945</td>\n",
       "      <td>0.022496</td>\n",
       "      <td>-3.363969</td>\n",
       "      <td>0.146793</td>\n",
       "      <td>-1.803124</td>\n",
       "    </tr>\n",
       "    <tr>\n",
       "      <th>298</th>\n",
       "      <td>3.48</td>\n",
       "      <td>-8.087995</td>\n",
       "      <td>-5.102159</td>\n",
       "      <td>-5.746176</td>\n",
       "      <td>-12.653673</td>\n",
       "      <td>-4.065603</td>\n",
       "      <td>-4.916477</td>\n",
       "      <td>-5.034194</td>\n",
       "      <td>-3.280058</td>\n",
       "      <td>0.156575</td>\n",
       "      <td>-3.634037</td>\n",
       "      <td>0.022995</td>\n",
       "      <td>-1.317016</td>\n",
       "      <td>0.066741</td>\n",
       "      <td>-3.780347</td>\n",
       "      <td>0.022050</td>\n",
       "      <td>-3.377292</td>\n",
       "      <td>0.141698</td>\n",
       "      <td>-1.817766</td>\n",
       "    </tr>\n",
       "    <tr>\n",
       "      <th>299</th>\n",
       "      <td>3.49</td>\n",
       "      <td>-8.113142</td>\n",
       "      <td>-5.118960</td>\n",
       "      <td>-5.766230</td>\n",
       "      <td>-12.690544</td>\n",
       "      <td>-4.080418</td>\n",
       "      <td>-4.934588</td>\n",
       "      <td>-5.051041</td>\n",
       "      <td>-3.296155</td>\n",
       "      <td>0.154718</td>\n",
       "      <td>-3.647810</td>\n",
       "      <td>0.022652</td>\n",
       "      <td>-1.326991</td>\n",
       "      <td>0.066131</td>\n",
       "      <td>-3.791731</td>\n",
       "      <td>0.021612</td>\n",
       "      <td>-3.390613</td>\n",
       "      <td>0.136761</td>\n",
       "      <td>-1.832562</td>\n",
       "    </tr>\n",
       "  </tbody>\n",
       "</table>\n",
       "<p>300 rows × 19 columns</p>\n",
       "</div>"
      ],
      "text/plain": [
       "     Price_Point   Mean_PE  PE_Segment_0  PE_Segment_1  PE_Segment_2  \\\n",
       "0           0.50 -0.096405     -0.211130     -0.119188     -0.030911   \n",
       "1           0.51 -0.100473     -0.217699     -0.123376     -0.032677   \n",
       "2           0.52 -0.104668     -0.224375     -0.127657     -0.034531   \n",
       "3           0.53 -0.108993     -0.231161     -0.132033     -0.036475   \n",
       "4           0.54 -0.113452     -0.238055     -0.136506     -0.038514   \n",
       "..           ...       ...           ...           ...           ...   \n",
       "295         3.45 -8.012353     -5.051646     -5.685795    -12.542962   \n",
       "296         3.46 -8.037601     -5.068502     -5.705959    -12.579882   \n",
       "297         3.47 -8.062815     -5.085340     -5.726086    -12.616786   \n",
       "298         3.48 -8.087995     -5.102159     -5.746176    -12.653673   \n",
       "299         3.49 -8.113142     -5.118960     -5.766230    -12.690544   \n",
       "\n",
       "     PE_Segment_3  Elasticity_Promotion_1  Elasticity_Promotion_0   Brand_5  \\\n",
       "0       -0.168036               -0.125760               -0.195682 -0.049056   \n",
       "1       -0.172960               -0.129877               -0.201804 -0.050617   \n",
       "2       -0.177954               -0.134073               -0.208029 -0.052207   \n",
       "3       -0.183019               -0.138349               -0.214357 -0.053827   \n",
       "4       -0.188156               -0.142706               -0.220790 -0.055478   \n",
       "..            ...                     ...                     ...       ...   \n",
       "295     -4.021059               -4.861963               -4.983535 -3.231573   \n",
       "296     -4.035923               -4.880165               -5.000441 -3.247767   \n",
       "297     -4.050771               -4.898336               -5.017328 -3.263929   \n",
       "298     -4.065603               -4.916477               -5.034194 -3.280058   \n",
       "299     -4.080418               -4.934588               -5.051041 -3.296155   \n",
       "\n",
       "     Brand_5_Cross_Brand_4  Brand 5 S0  Brand_5_Cross_Brand_4_S0  Brand 5 S1  \\\n",
       "0                 0.332012   -0.115844                  0.174138   -0.043942   \n",
       "1                 0.337288   -0.118884                  0.176194   -0.045028   \n",
       "2                 0.342507   -0.121958                  0.178198   -0.046124   \n",
       "3                 0.347669   -0.125067                  0.180152   -0.047230   \n",
       "4                 0.352773   -0.128212                  0.182056   -0.048345   \n",
       "..                     ...         ...                       ...         ...   \n",
       "295               0.162233   -3.592456                  0.024051   -1.287423   \n",
       "296               0.160332   -3.606361                  0.023694   -1.297232   \n",
       "297               0.158447   -3.620221                  0.023342   -1.307097   \n",
       "298               0.156575   -3.634037                  0.022995   -1.317016   \n",
       "299               0.154718   -3.647810                  0.022652   -1.326991   \n",
       "\n",
       "     Brand_5_Cross_Brand_4_S1  Brand 5 S2  Brand_5_Cross_Brand_4_S2  \\\n",
       "0                    0.194762   -0.001036                  0.181589   \n",
       "1                    0.197246   -0.001098                  0.183886   \n",
       "2                    0.199679   -0.001163                  0.186134   \n",
       "3                    0.202061   -0.001231                  0.188333   \n",
       "4                    0.204393   -0.001303                  0.190484   \n",
       "..                        ...         ...                       ...   \n",
       "295                  0.068596   -3.746081                  0.023409   \n",
       "296                  0.067973   -3.757523                  0.022949   \n",
       "297                  0.067355   -3.768945                  0.022496   \n",
       "298                  0.066741   -3.780347                  0.022050   \n",
       "299                  0.066131   -3.791731                  0.021612   \n",
       "\n",
       "     Brand 5 S3  Brand_5_Cross_Brand_4_S3  PE_Quantity_Promotion_1  \n",
       "0     -0.297310                  0.482421                -0.102157  \n",
       "1     -0.303356                  0.491726                -0.104413  \n",
       "2     -0.309413                  0.501016                -0.106679  \n",
       "3     -0.315480                  0.510290                -0.108954  \n",
       "4     -0.321558                  0.519548                -0.111238  \n",
       "..          ...                       ...                      ...  \n",
       "295   -3.337311                  0.157470                -1.774292  \n",
       "296   -3.350641                  0.152049                -1.788634  \n",
       "297   -3.363969                  0.146793                -1.803124  \n",
       "298   -3.377292                  0.141698                -1.817766  \n",
       "299   -3.390613                  0.136761                -1.832562  \n",
       "\n",
       "[300 rows x 19 columns]"
      ]
     },
     "execution_count": 313,
     "metadata": {},
     "output_type": "execute_result"
    }
   ],
   "source": [
    "df_price_elasticities['PE_Quantity_Promotion_1'] = price_elasticity_quantity_promotion_yes\n",
    "df_price_elasticities"
   ]
  },
  {
   "cell_type": "code",
   "execution_count": 314,
   "metadata": {},
   "outputs": [
    {
     "data": {
      "text/plain": [
       "Text(0.5, 1.0, 'Price Elasticity of Purchase Quantity with Promotion')"
      ]
     },
     "execution_count": 314,
     "metadata": {},
     "output_type": "execute_result"
    },
    {
     "data": {
      "image/png": "[encoded data removed]",
      "text/plain": [
       "<Figure size 648x432 with 1 Axes>"
      ]
     },
     "metadata": {},
     "output_type": "display_data"
    }
   ],
   "source": [
    "plt.figure(figsize = (9, 6))\n",
    "plt.plot(price_range, price_elasticity_quantity_promotion_yes)\n",
    "plt.xlabel('Price')\n",
    "plt.ylabel('Elasticity')\n",
    "plt.title('Price Elasticity of Purchase Quantity with Promotion')"
   ]
  },
  {
   "cell_type": "code",
   "execution_count": 315,
   "metadata": {},
   "outputs": [
    {
     "data": {
      "text/html": [
       "<div>\n",
       "<style scoped>\n",
       "    .dataframe tbody tr th:only-of-type {\n",
       "        vertical-align: middle;\n",
       "    }\n",
       "\n",
       "    .dataframe tbody tr th {\n",
       "        vertical-align: top;\n",
       "    }\n",
       "\n",
       "    .dataframe thead th {\n",
       "        text-align: right;\n",
       "    }\n",
       "</style>\n",
       "<table border=\"1\" class=\"dataframe\">\n",
       "  <thead>\n",
       "    <tr style=\"text-align: right;\">\n",
       "      <th></th>\n",
       "      <th>Price_Point</th>\n",
       "      <th>Mean_PE</th>\n",
       "      <th>PE_Segment_0</th>\n",
       "      <th>PE_Segment_1</th>\n",
       "      <th>PE_Segment_2</th>\n",
       "      <th>PE_Segment_3</th>\n",
       "      <th>Elasticity_Promotion_1</th>\n",
       "      <th>Elasticity_Promotion_0</th>\n",
       "      <th>Brand_5</th>\n",
       "      <th>Brand_5_Cross_Brand_4</th>\n",
       "      <th>Brand 5 S0</th>\n",
       "      <th>Brand_5_Cross_Brand_4_S0</th>\n",
       "      <th>Brand 5 S1</th>\n",
       "      <th>Brand_5_Cross_Brand_4_S1</th>\n",
       "      <th>Brand 5 S2</th>\n",
       "      <th>Brand_5_Cross_Brand_4_S2</th>\n",
       "      <th>Brand 5 S3</th>\n",
       "      <th>Brand_5_Cross_Brand_4_S3</th>\n",
       "      <th>PE_Quantity_Promotion_1</th>\n",
       "      <th>PE_Quantity_Promotion_0</th>\n",
       "    </tr>\n",
       "  </thead>\n",
       "  <tbody>\n",
       "    <tr>\n",
       "      <th>0</th>\n",
       "      <td>0.50</td>\n",
       "      <td>-0.096405</td>\n",
       "      <td>-0.211130</td>\n",
       "      <td>-0.119188</td>\n",
       "      <td>-0.030911</td>\n",
       "      <td>-0.168036</td>\n",
       "      <td>-0.125760</td>\n",
       "      <td>-0.195682</td>\n",
       "      <td>-0.049056</td>\n",
       "      <td>0.332012</td>\n",
       "      <td>-0.115844</td>\n",
       "      <td>0.174138</td>\n",
       "      <td>-0.043942</td>\n",
       "      <td>0.194762</td>\n",
       "      <td>-0.001036</td>\n",
       "      <td>0.181589</td>\n",
       "      <td>-0.297310</td>\n",
       "      <td>0.482421</td>\n",
       "      <td>-0.102157</td>\n",
       "      <td>-0.099543</td>\n",
       "    </tr>\n",
       "    <tr>\n",
       "      <th>1</th>\n",
       "      <td>0.51</td>\n",
       "      <td>-0.100473</td>\n",
       "      <td>-0.217699</td>\n",
       "      <td>-0.123376</td>\n",
       "      <td>-0.032677</td>\n",
       "      <td>-0.172960</td>\n",
       "      <td>-0.129877</td>\n",
       "      <td>-0.201804</td>\n",
       "      <td>-0.050617</td>\n",
       "      <td>0.337288</td>\n",
       "      <td>-0.118884</td>\n",
       "      <td>0.176194</td>\n",
       "      <td>-0.045028</td>\n",
       "      <td>0.197246</td>\n",
       "      <td>-0.001098</td>\n",
       "      <td>0.183886</td>\n",
       "      <td>-0.303356</td>\n",
       "      <td>0.491726</td>\n",
       "      <td>-0.104413</td>\n",
       "      <td>-0.101736</td>\n",
       "    </tr>\n",
       "    <tr>\n",
       "      <th>2</th>\n",
       "      <td>0.52</td>\n",
       "      <td>-0.104668</td>\n",
       "      <td>-0.224375</td>\n",
       "      <td>-0.127657</td>\n",
       "      <td>-0.034531</td>\n",
       "      <td>-0.177954</td>\n",
       "      <td>-0.134073</td>\n",
       "      <td>-0.208029</td>\n",
       "      <td>-0.052207</td>\n",
       "      <td>0.342507</td>\n",
       "      <td>-0.121958</td>\n",
       "      <td>0.178198</td>\n",
       "      <td>-0.046124</td>\n",
       "      <td>0.199679</td>\n",
       "      <td>-0.001163</td>\n",
       "      <td>0.186134</td>\n",
       "      <td>-0.309413</td>\n",
       "      <td>0.501016</td>\n",
       "      <td>-0.106679</td>\n",
       "      <td>-0.103939</td>\n",
       "    </tr>\n",
       "    <tr>\n",
       "      <th>3</th>\n",
       "      <td>0.53</td>\n",
       "      <td>-0.108993</td>\n",
       "      <td>-0.231161</td>\n",
       "      <td>-0.132033</td>\n",
       "      <td>-0.036475</td>\n",
       "      <td>-0.183019</td>\n",
       "      <td>-0.138349</td>\n",
       "      <td>-0.214357</td>\n",
       "      <td>-0.053827</td>\n",
       "      <td>0.347669</td>\n",
       "      <td>-0.125067</td>\n",
       "      <td>0.180152</td>\n",
       "      <td>-0.047230</td>\n",
       "      <td>0.202061</td>\n",
       "      <td>-0.001231</td>\n",
       "      <td>0.188333</td>\n",
       "      <td>-0.315480</td>\n",
       "      <td>0.510290</td>\n",
       "      <td>-0.108954</td>\n",
       "      <td>-0.106150</td>\n",
       "    </tr>\n",
       "    <tr>\n",
       "      <th>4</th>\n",
       "      <td>0.54</td>\n",
       "      <td>-0.113452</td>\n",
       "      <td>-0.238055</td>\n",
       "      <td>-0.136506</td>\n",
       "      <td>-0.038514</td>\n",
       "      <td>-0.188156</td>\n",
       "      <td>-0.142706</td>\n",
       "      <td>-0.220790</td>\n",
       "      <td>-0.055478</td>\n",
       "      <td>0.352773</td>\n",
       "      <td>-0.128212</td>\n",
       "      <td>0.182056</td>\n",
       "      <td>-0.048345</td>\n",
       "      <td>0.204393</td>\n",
       "      <td>-0.001303</td>\n",
       "      <td>0.190484</td>\n",
       "      <td>-0.321558</td>\n",
       "      <td>0.519548</td>\n",
       "      <td>-0.111238</td>\n",
       "      <td>-0.108369</td>\n",
       "    </tr>\n",
       "    <tr>\n",
       "      <th>...</th>\n",
       "      <td>...</td>\n",
       "      <td>...</td>\n",
       "      <td>...</td>\n",
       "      <td>...</td>\n",
       "      <td>...</td>\n",
       "      <td>...</td>\n",
       "      <td>...</td>\n",
       "      <td>...</td>\n",
       "      <td>...</td>\n",
       "      <td>...</td>\n",
       "      <td>...</td>\n",
       "      <td>...</td>\n",
       "      <td>...</td>\n",
       "      <td>...</td>\n",
       "      <td>...</td>\n",
       "      <td>...</td>\n",
       "      <td>...</td>\n",
       "      <td>...</td>\n",
       "      <td>...</td>\n",
       "      <td>...</td>\n",
       "    </tr>\n",
       "    <tr>\n",
       "      <th>295</th>\n",
       "      <td>3.45</td>\n",
       "      <td>-8.012353</td>\n",
       "      <td>-5.051646</td>\n",
       "      <td>-5.685795</td>\n",
       "      <td>-12.542962</td>\n",
       "      <td>-4.021059</td>\n",
       "      <td>-4.861963</td>\n",
       "      <td>-4.983535</td>\n",
       "      <td>-3.231573</td>\n",
       "      <td>0.162233</td>\n",
       "      <td>-3.592456</td>\n",
       "      <td>0.024051</td>\n",
       "      <td>-1.287423</td>\n",
       "      <td>0.068596</td>\n",
       "      <td>-3.746081</td>\n",
       "      <td>0.023409</td>\n",
       "      <td>-3.337311</td>\n",
       "      <td>0.157470</td>\n",
       "      <td>-1.774292</td>\n",
       "      <td>-1.664290</td>\n",
       "    </tr>\n",
       "    <tr>\n",
       "      <th>296</th>\n",
       "      <td>3.46</td>\n",
       "      <td>-8.037601</td>\n",
       "      <td>-5.068502</td>\n",
       "      <td>-5.705959</td>\n",
       "      <td>-12.579882</td>\n",
       "      <td>-4.035923</td>\n",
       "      <td>-4.880165</td>\n",
       "      <td>-5.000441</td>\n",
       "      <td>-3.247767</td>\n",
       "      <td>0.160332</td>\n",
       "      <td>-3.606361</td>\n",
       "      <td>0.023694</td>\n",
       "      <td>-1.297232</td>\n",
       "      <td>0.067973</td>\n",
       "      <td>-3.757523</td>\n",
       "      <td>0.022949</td>\n",
       "      <td>-3.350641</td>\n",
       "      <td>0.152049</td>\n",
       "      <td>-1.788634</td>\n",
       "      <td>-1.677205</td>\n",
       "    </tr>\n",
       "    <tr>\n",
       "      <th>297</th>\n",
       "      <td>3.47</td>\n",
       "      <td>-8.062815</td>\n",
       "      <td>-5.085340</td>\n",
       "      <td>-5.726086</td>\n",
       "      <td>-12.616786</td>\n",
       "      <td>-4.050771</td>\n",
       "      <td>-4.898336</td>\n",
       "      <td>-5.017328</td>\n",
       "      <td>-3.263929</td>\n",
       "      <td>0.158447</td>\n",
       "      <td>-3.620221</td>\n",
       "      <td>0.023342</td>\n",
       "      <td>-1.307097</td>\n",
       "      <td>0.067355</td>\n",
       "      <td>-3.768945</td>\n",
       "      <td>0.022496</td>\n",
       "      <td>-3.363969</td>\n",
       "      <td>0.146793</td>\n",
       "      <td>-1.803124</td>\n",
       "      <td>-1.690246</td>\n",
       "    </tr>\n",
       "    <tr>\n",
       "      <th>298</th>\n",
       "      <td>3.48</td>\n",
       "      <td>-8.087995</td>\n",
       "      <td>-5.102159</td>\n",
       "      <td>-5.746176</td>\n",
       "      <td>-12.653673</td>\n",
       "      <td>-4.065603</td>\n",
       "      <td>-4.916477</td>\n",
       "      <td>-5.034194</td>\n",
       "      <td>-3.280058</td>\n",
       "      <td>0.156575</td>\n",
       "      <td>-3.634037</td>\n",
       "      <td>0.022995</td>\n",
       "      <td>-1.317016</td>\n",
       "      <td>0.066741</td>\n",
       "      <td>-3.780347</td>\n",
       "      <td>0.022050</td>\n",
       "      <td>-3.377292</td>\n",
       "      <td>0.141698</td>\n",
       "      <td>-1.817766</td>\n",
       "      <td>-1.703414</td>\n",
       "    </tr>\n",
       "    <tr>\n",
       "      <th>299</th>\n",
       "      <td>3.49</td>\n",
       "      <td>-8.113142</td>\n",
       "      <td>-5.118960</td>\n",
       "      <td>-5.766230</td>\n",
       "      <td>-12.690544</td>\n",
       "      <td>-4.080418</td>\n",
       "      <td>-4.934588</td>\n",
       "      <td>-5.051041</td>\n",
       "      <td>-3.296155</td>\n",
       "      <td>0.154718</td>\n",
       "      <td>-3.647810</td>\n",
       "      <td>0.022652</td>\n",
       "      <td>-1.326991</td>\n",
       "      <td>0.066131</td>\n",
       "      <td>-3.791731</td>\n",
       "      <td>0.021612</td>\n",
       "      <td>-3.390613</td>\n",
       "      <td>0.136761</td>\n",
       "      <td>-1.832562</td>\n",
       "      <td>-1.716712</td>\n",
       "    </tr>\n",
       "  </tbody>\n",
       "</table>\n",
       "<p>300 rows × 20 columns</p>\n",
       "</div>"
      ],
      "text/plain": [
       "     Price_Point   Mean_PE  PE_Segment_0  PE_Segment_1  PE_Segment_2  \\\n",
       "0           0.50 -0.096405     -0.211130     -0.119188     -0.030911   \n",
       "1           0.51 -0.100473     -0.217699     -0.123376     -0.032677   \n",
       "2           0.52 -0.104668     -0.224375     -0.127657     -0.034531   \n",
       "3           0.53 -0.108993     -0.231161     -0.132033     -0.036475   \n",
       "4           0.54 -0.113452     -0.238055     -0.136506     -0.038514   \n",
       "..           ...       ...           ...           ...           ...   \n",
       "295         3.45 -8.012353     -5.051646     -5.685795    -12.542962   \n",
       "296         3.46 -8.037601     -5.068502     -5.705959    -12.579882   \n",
       "297         3.47 -8.062815     -5.085340     -5.726086    -12.616786   \n",
       "298         3.48 -8.087995     -5.102159     -5.746176    -12.653673   \n",
       "299         3.49 -8.113142     -5.118960     -5.766230    -12.690544   \n",
       "\n",
       "     PE_Segment_3  Elasticity_Promotion_1  Elasticity_Promotion_0   Brand_5  \\\n",
       "0       -0.168036               -0.125760               -0.195682 -0.049056   \n",
       "1       -0.172960               -0.129877               -0.201804 -0.050617   \n",
       "2       -0.177954               -0.134073               -0.208029 -0.052207   \n",
       "3       -0.183019               -0.138349               -0.214357 -0.053827   \n",
       "4       -0.188156               -0.142706               -0.220790 -0.055478   \n",
       "..            ...                     ...                     ...       ...   \n",
       "295     -4.021059               -4.861963               -4.983535 -3.231573   \n",
       "296     -4.035923               -4.880165               -5.000441 -3.247767   \n",
       "297     -4.050771               -4.898336               -5.017328 -3.263929   \n",
       "298     -4.065603               -4.916477               -5.034194 -3.280058   \n",
       "299     -4.080418               -4.934588               -5.051041 -3.296155   \n",
       "\n",
       "     Brand_5_Cross_Brand_4  Brand 5 S0  Brand_5_Cross_Brand_4_S0  Brand 5 S1  \\\n",
       "0                 0.332012   -0.115844                  0.174138   -0.043942   \n",
       "1                 0.337288   -0.118884                  0.176194   -0.045028   \n",
       "2                 0.342507   -0.121958                  0.178198   -0.046124   \n",
       "3                 0.347669   -0.125067                  0.180152   -0.047230   \n",
       "4                 0.352773   -0.128212                  0.182056   -0.048345   \n",
       "..                     ...         ...                       ...         ...   \n",
       "295               0.162233   -3.592456                  0.024051   -1.287423   \n",
       "296               0.160332   -3.606361                  0.023694   -1.297232   \n",
       "297               0.158447   -3.620221                  0.023342   -1.307097   \n",
       "298               0.156575   -3.634037                  0.022995   -1.317016   \n",
       "299               0.154718   -3.647810                  0.022652   -1.326991   \n",
       "\n",
       "     Brand_5_Cross_Brand_4_S1  Brand 5 S2  Brand_5_Cross_Brand_4_S2  \\\n",
       "0                    0.194762   -0.001036                  0.181589   \n",
       "1                    0.197246   -0.001098                  0.183886   \n",
       "2                    0.199679   -0.001163                  0.186134   \n",
       "3                    0.202061   -0.001231                  0.188333   \n",
       "4                    0.204393   -0.001303                  0.190484   \n",
       "..                        ...         ...                       ...   \n",
       "295                  0.068596   -3.746081                  0.023409   \n",
       "296                  0.067973   -3.757523                  0.022949   \n",
       "297                  0.067355   -3.768945                  0.022496   \n",
       "298                  0.066741   -3.780347                  0.022050   \n",
       "299                  0.066131   -3.791731                  0.021612   \n",
       "\n",
       "     Brand 5 S3  Brand_5_Cross_Brand_4_S3  PE_Quantity_Promotion_1  \\\n",
       "0     -0.297310                  0.482421                -0.102157   \n",
       "1     -0.303356                  0.491726                -0.104413   \n",
       "2     -0.309413                  0.501016                -0.106679   \n",
       "3     -0.315480                  0.510290                -0.108954   \n",
       "4     -0.321558                  0.519548                -0.111238   \n",
       "..          ...                       ...                      ...   \n",
       "295   -3.337311                  0.157470                -1.774292   \n",
       "296   -3.350641                  0.152049                -1.788634   \n",
       "297   -3.363969                  0.146793                -1.803124   \n",
       "298   -3.377292                  0.141698                -1.817766   \n",
       "299   -3.390613                  0.136761                -1.832562   \n",
       "\n",
       "     PE_Quantity_Promotion_0  \n",
       "0                  -0.099543  \n",
       "1                  -0.101736  \n",
       "2                  -0.103939  \n",
       "3                  -0.106150  \n",
       "4                  -0.108369  \n",
       "..                       ...  \n",
       "295                -1.664290  \n",
       "296                -1.677205  \n",
       "297                -1.690246  \n",
       "298                -1.703414  \n",
       "299                -1.716712  \n",
       "\n",
       "[300 rows x 20 columns]"
      ]
     },
     "execution_count": 315,
     "metadata": {},
     "output_type": "execute_result"
    }
   ],
   "source": [
    "df_price_elasticity_quantity['Promotion_Incidence'] = 0\n",
    "\n",
    "predict_quantity = model_quantity.predict(df_price_elasticity_quantity)\n",
    "\n",
    "price_elasticity_quantity_promotion_no = beta_quantity * price_range / predict_quantity\n",
    "\n",
    "df_price_elasticities['PE_Quantity_Promotion_0'] = price_elasticity_quantity_promotion_no\n",
    "df_price_elasticities"
   ]
  },
  {
   "cell_type": "code",
   "execution_count": 316,
   "metadata": {},
   "outputs": [
    {
     "data": {
      "text/plain": [
       "Text(0.5, 1.0, 'Price Elasticity of Purchase Quantity with Promotion')"
      ]
     },
     "execution_count": 316,
     "metadata": {},
     "output_type": "execute_result"
    },
    {
     "data": {
      "image/png": "[encoded data removed]",
      "text/plain": [
       "<Figure size 648x432 with 1 Axes>"
      ]
     },
     "metadata": {},
     "output_type": "display_data"
    }
   ],
   "source": [
    "plt.figure(figsize = (9, 6))\n",
    "plt.plot(price_range, price_elasticity_quantity_promotion_yes, color = 'orange')\n",
    "plt.plot(price_range, price_elasticity_quantity_promotion_no)\n",
    "plt.xlabel('Price')\n",
    "plt.ylabel('Elasticity')\n",
    "plt.title('Price Elasticity of Purchase Quantity with Promotion')"
   ]
  }
 ],
 "metadata": {
  "kernelspec": {
   "display_name": "Python 3 (ipykernel)",
   "language": "python",
   "name": "python3"
  },
  "language_info": {
   "codemirror_mode": {
    "name": "ipython",
    "version": 3
   },
   "file_extension": ".py",
   "mimetype": "text/x-python",
   "name": "python",
   "nbconvert_exporter": "python",
   "pygments_lexer": "ipython3",
   "version": "3.7.3"
  }
 },
 "nbformat": 4,
 "nbformat_minor": 2
}
